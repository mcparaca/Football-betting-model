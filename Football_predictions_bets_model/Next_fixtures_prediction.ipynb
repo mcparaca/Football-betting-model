{
 "cells": [
  {
   "cell_type": "markdown",
   "id": "2ee5e0aa-8bc9-4429-8e3f-45bca665bbc6",
   "metadata": {},
   "source": [
    "# Predicting Next Fixtures\n",
    "\n",
    "This notebook is dedicated to forecasting the outcomes of upcoming fixtures involving teams that have not yet played their matches. By utilizing the data we have collected and processed in previous notebooks, we can predict the expected goals for each team based on their current statistics and historical performance.\n",
    "\n",
    "## Objectives of This Notebook\n",
    "\n",
    "The primary objectives of this notebook include:\n",
    "\n",
    "1. **Utilizing Current Data**: We will leverage the most recent datasets, which contain updated features such as historical match statistics, team form, and head-to-head (H2H) data, to make informed predictions about upcoming matches.\n",
    "\n",
    "2. **Predicting Expected Goals**: The focus will be on estimating the expected goals (xG) for each team in the fixtures. This metric is crucial for evaluating a team's attacking and defensive capabilities and provides a clearer picture of potential match outcomes.\n",
    "\n",
    "3. **Model Application**: We will apply the trained machine learning model developed in previous sections to predict the goals for each team. By inputting the relevant features into the model, we can generate predictions for both home and away teams in each fixture.\n",
    "\n"
   ]
  },
  {
   "cell_type": "code",
   "execution_count": 2,
   "id": "8a06c445-fe4c-4a40-92be-f816ad49c63a",
   "metadata": {},
   "outputs": [],
   "source": [
    "import numpy as np\n",
    "import pandas as pd\n",
    "pd.set_option('display.max_columns', None)\n",
    "from Dataset_functions import *\n",
    "import tensorflow as tf\n",
    "from tensorflow.keras.models import Sequential\n",
    "from tensorflow.keras.layers import Dense, Dropout\n",
    "from tensorflow.keras.models import load_model\n",
    "import smtplib\n",
    "from email.mime.multipart import MIMEMultipart\n",
    "from email.mime.text import MIMEText\n",
    "from email.mime.base import MIMEBase\n",
    "from email import encoders\n",
    "import os\n",
    "from datetime import date\n",
    "import warnings\n",
    "warnings.filterwarnings(\"ignore\")"
   ]
  },
  {
   "cell_type": "markdown",
   "id": "7a5042a8-153f-4c05-9aa8-9b26b133e01b",
   "metadata": {},
   "source": [
    "We begin the prediction process by loading the saved model that was previously trained and optimized. This model will enable us to make accurate predictions regarding the expected goals for upcoming matches.\n",
    "\n",
    "To ensure the prediction process runs smoothly, the first step involves eliminating any unnecessary variables from our dataset. This step is crucial, as it helps to focus on the relevant features that directly contribute to our goal predictions, thereby enhancing the model's efficiency.\n",
    "\n",
    "In total, we have 39 matches to predict, which encompass fixtures from the top four European leagues. By concentrating on this specific set of matches, we can apply our model effectively and provide insights into potential outcomes based on the historical and current data of the teams involved.\n",
    "\n",
    "Overall, this initial stage of loading the model and refining our dataset is vital for setting the groundwork for accurate predictions, enabling us to leverage the model’s capabilities fully."
   ]
  },
  {
   "cell_type": "code",
   "execution_count": 3,
   "id": "a3bd3f92-6363-4b96-a3f9-a640b37dfd76",
   "metadata": {},
   "outputs": [
    {
     "name": "stdout",
     "output_type": "stream",
     "text": [
      "\u001b[1m2/2\u001b[0m \u001b[32m━━━━━━━━━━━━━━━━━━━━\u001b[0m\u001b[37m\u001b[0m \u001b[1m0s\u001b[0m 36ms/step \n"
     ]
    }
   ],
   "source": [
    "df = pd.read_csv('default_data_all_variables_v1.csv')\n",
    "target = pd.read_csv('targets_v1.csv')\n",
    "\n",
    "df = df.loc[:, ~df.columns.str.contains('HomeTeam|AwayTeam')]\n",
    "df = df.loc[:, ~df.columns.str.contains('year|month')]\n",
    "df = df.loc[:, ~df.columns.str.contains('ovr')]\n",
    "df = df.loc[:, ~df.columns.str.contains('corner')]\n",
    "df = df.loc[:, ~df.columns.str.contains('TimeBucket')]\n",
    "df = df.loc[:, ~df.columns.str.contains('Avg')]\n",
    "data_preds = df.iloc[-39:]\n",
    "\n",
    "model = load_model(\"model_fully_optimal.keras\")\n",
    "\n",
    "y_pred = model.predict(data_preds)\n",
    "res = pd.DataFrame(y_pred, columns = ['FTHG', 'FTAG'])"
   ]
  },
  {
   "cell_type": "markdown",
   "id": "4015b7cc-0b04-4072-b80c-f9fd227680cb",
   "metadata": {},
   "source": [
    "After predicting the expected goals for each team, the subsequent step involves loading our established criteria for over and under goals. This process is crucial as it helps us identify which matches align with our betting strategies based on the model's predictions.\n",
    "\n",
    "By applying these conditions, we can categorize the upcoming fixtures into those that meet the criteria for betting on over 2.5 goals and those that fall under the under 2.5 goals category. This classification allows us to focus our betting efforts on matches that have the highest potential for profitability.\n",
    "\n",
    "Once the categorization is complete, we will compile a comprehensive table that presents our betting propositions. This table will not only include the teams participating in each match but also the predicted goals, the specific over/under conditions, and the corresponding odds from the bookmakers. \n",
    "\n",
    "By organizing this information clearly, we empower ourselves to make informed decisions about our betting strategy, ultimately maximizing our chances of success and enhancing our overall profitability."
   ]
  },
  {
   "cell_type": "code",
   "execution_count": 4,
   "id": "4dc997f9-85e8-4592-96e6-8fac243ec1e4",
   "metadata": {},
   "outputs": [],
   "source": [
    "over_conditions = pd.read_csv('over_conditions.csv')\n",
    "under_conditions = pd.read_csv('under_conditions.csv')\n",
    "next_fixtures = pd.read_csv('next_fixture_teams.csv')[-39:]\n",
    "\n",
    "over_under = pd.read_csv('2_5_goals.csv')[-39:]\n",
    "over_under.reset_index(inplace = True, drop = True)\n",
    "\n",
    "next_fixtures = pd.merge(next_fixtures[['HomeTeam',\t'AwayTeam']], over_under, on =['HomeTeam',\t'AwayTeam'], how = 'left')\n",
    "next_fixtures[['home_goals_pred', 'away_goals_pred']] = y_pred\n",
    "next_fixtures['total_goals'] = next_fixtures['home_goals_pred'] + next_fixtures['away_goals_pred']\n",
    "\n",
    "all_considered_matches_over = pd.DataFrame(columns = next_fixtures.columns)\n",
    "for index, row in over_conditions.iterrows():\n",
    "    matches_to_add = next_fixtures.loc[(next_fixtures['total_goals']>row['goals_total_over']) & (next_fixtures['Avg>2.5']>row['over_2_5_val'])]\n",
    "    all_considered_matches_over = pd.concat([all_considered_matches_over, matches_to_add])\n",
    "all_considered_matches_over.drop_duplicates(inplace= True)\n",
    "all_considered_matches_over['over_under'] = ['over']*len(all_considered_matches_over)\n",
    "\n",
    "all_considered_matches_under = pd.DataFrame(columns = next_fixtures.columns)\n",
    "for index, row in under_conditions.iterrows():\n",
    "    matches_to_add = next_fixtures.loc[(next_fixtures['total_goals']<row['goals_total_under']) & (next_fixtures['Avg<2.5']>row['under_2_5_val'])]\n",
    "    all_considered_matches_under = pd.concat([all_considered_matches_under, matches_to_add])\n",
    "all_considered_matches_under.drop_duplicates(inplace= True)\n",
    "all_considered_matches_under['over_under'] = ['under']*len(all_considered_matches_under)\n",
    "\n",
    "\n",
    "today = date.today()\n",
    "betting_summary = pd.concat([all_considered_matches_over, all_considered_matches_under])\n",
    "betting_summary.to_csv(f'betting_summary_{str(today)}.csv', index=False)"
   ]
  },
  {
   "cell_type": "markdown",
   "id": "ad28925d-7ed0-4b88-af37-f079232ab982",
   "metadata": {},
   "source": [
    "An optimal feature of this project would be to automate the process of sending the compiled betting propositions table via email. By sharing this valuable information with others, we can disseminate our betting strategies and insights effectively. This not only enhances the collaborative aspect of our project but also opens up opportunities for monetization.\n",
    "\n",
    "By establishing a network of interested individuals who receive these betting propositions, we could potentially create a subscription model or offer premium services that provide exclusive insights and analysis. This could generate additional revenue streams while allowing others to benefit from our data-driven approach to betting.\n",
    "\n",
    "Ultimately, by leveraging the predictive capabilities of our model and sharing the results with a broader audience, we can amplify our impact and maximize the profitability of our project, turning a passionate endeavor into a viable business opportunity."
   ]
  },
  {
   "cell_type": "code",
   "execution_count": 31,
   "id": "9ed341f8-dd02-431d-baee-51d6e282d12f",
   "metadata": {},
   "outputs": [
    {
     "name": "stdout",
     "output_type": "stream",
     "text": [
      "Email sent to ciesliktymek@gmail.com\n"
     ]
    }
   ],
   "source": [
    "send_email(betting_summary, \"ciesliktymek@gmail.com\", today)"
   ]
  },
  {
   "cell_type": "markdown",
   "id": "ef5122a2-cd2a-46e4-b59d-e332d8afb2b8",
   "metadata": {},
   "source": [
    "### Exemplary table with betting tips. "
   ]
  },
  {
   "cell_type": "code",
   "execution_count": 5,
   "id": "d8f0a22e-80c9-4a43-b7c4-d294d36097f9",
   "metadata": {},
   "outputs": [
    {
     "data": {
      "text/html": [
       "<div>\n",
       "<style scoped>\n",
       "    .dataframe tbody tr th:only-of-type {\n",
       "        vertical-align: middle;\n",
       "    }\n",
       "\n",
       "    .dataframe tbody tr th {\n",
       "        vertical-align: top;\n",
       "    }\n",
       "\n",
       "    .dataframe thead th {\n",
       "        text-align: right;\n",
       "    }\n",
       "</style>\n",
       "<table border=\"1\" class=\"dataframe\">\n",
       "  <thead>\n",
       "    <tr style=\"text-align: right;\">\n",
       "      <th></th>\n",
       "      <th>HomeTeam</th>\n",
       "      <th>AwayTeam</th>\n",
       "      <th>Avg&gt;2.5</th>\n",
       "      <th>Avg&lt;2.5</th>\n",
       "      <th>home_goals_pred</th>\n",
       "      <th>away_goals_pred</th>\n",
       "      <th>total_goals</th>\n",
       "      <th>over_under</th>\n",
       "    </tr>\n",
       "  </thead>\n",
       "  <tbody>\n",
       "    <tr>\n",
       "      <th>17</th>\n",
       "      <td>M'gladbach</td>\n",
       "      <td>Union Berlin</td>\n",
       "      <td>1.77</td>\n",
       "      <td>1.98</td>\n",
       "      <td>1.732872</td>\n",
       "      <td>1.130997</td>\n",
       "      <td>2.863869</td>\n",
       "      <td>over</td>\n",
       "    </tr>\n",
       "    <tr>\n",
       "      <th>20</th>\n",
       "      <td>Genoa</td>\n",
       "      <td>Juventus</td>\n",
       "      <td>2.26</td>\n",
       "      <td>1.59</td>\n",
       "      <td>1.005048</td>\n",
       "      <td>1.917117</td>\n",
       "      <td>2.922165</td>\n",
       "      <td>over</td>\n",
       "    </tr>\n",
       "    <tr>\n",
       "      <th>21</th>\n",
       "      <td>Bologna</td>\n",
       "      <td>Atalanta</td>\n",
       "      <td>1.97</td>\n",
       "      <td>1.78</td>\n",
       "      <td>1.493544</td>\n",
       "      <td>1.400697</td>\n",
       "      <td>2.894241</td>\n",
       "      <td>over</td>\n",
       "    </tr>\n",
       "    <tr>\n",
       "      <th>35</th>\n",
       "      <td>Ath Madrid</td>\n",
       "      <td>Real Madrid</td>\n",
       "      <td>1.75</td>\n",
       "      <td>2.00</td>\n",
       "      <td>1.452736</td>\n",
       "      <td>1.588643</td>\n",
       "      <td>3.041379</td>\n",
       "      <td>over</td>\n",
       "    </tr>\n",
       "    <tr>\n",
       "      <th>14</th>\n",
       "      <td>Mainz</td>\n",
       "      <td>Heidenheim</td>\n",
       "      <td>1.70</td>\n",
       "      <td>2.07</td>\n",
       "      <td>1.383921</td>\n",
       "      <td>1.666342</td>\n",
       "      <td>3.050263</td>\n",
       "      <td>over</td>\n",
       "    </tr>\n",
       "    <tr>\n",
       "      <th>19</th>\n",
       "      <td>Udinese</td>\n",
       "      <td>Inter</td>\n",
       "      <td>1.71</td>\n",
       "      <td>2.06</td>\n",
       "      <td>1.000063</td>\n",
       "      <td>2.111656</td>\n",
       "      <td>3.111719</td>\n",
       "      <td>over</td>\n",
       "    </tr>\n",
       "    <tr>\n",
       "      <th>24</th>\n",
       "      <td>Ipswich</td>\n",
       "      <td>Aston Villa</td>\n",
       "      <td>1.71</td>\n",
       "      <td>2.07</td>\n",
       "      <td>1.123872</td>\n",
       "      <td>2.266101</td>\n",
       "      <td>3.389973</td>\n",
       "      <td>over</td>\n",
       "    </tr>\n",
       "    <tr>\n",
       "      <th>1</th>\n",
       "      <td>Milan</td>\n",
       "      <td>Lecce</td>\n",
       "      <td>1.47</td>\n",
       "      <td>2.55</td>\n",
       "      <td>1.582038</td>\n",
       "      <td>0.706984</td>\n",
       "      <td>2.289022</td>\n",
       "      <td>under</td>\n",
       "    </tr>\n",
       "    <tr>\n",
       "      <th>37</th>\n",
       "      <td>Parma</td>\n",
       "      <td>Cagliari</td>\n",
       "      <td>1.72</td>\n",
       "      <td>2.05</td>\n",
       "      <td>1.133076</td>\n",
       "      <td>1.153461</td>\n",
       "      <td>2.286537</td>\n",
       "      <td>under</td>\n",
       "    </tr>\n",
       "  </tbody>\n",
       "</table>\n",
       "</div>"
      ],
      "text/plain": [
       "      HomeTeam      AwayTeam  Avg>2.5  Avg<2.5  home_goals_pred  \\\n",
       "17  M'gladbach  Union Berlin     1.77     1.98         1.732872   \n",
       "20       Genoa      Juventus     2.26     1.59         1.005048   \n",
       "21     Bologna      Atalanta     1.97     1.78         1.493544   \n",
       "35  Ath Madrid   Real Madrid     1.75     2.00         1.452736   \n",
       "14       Mainz    Heidenheim     1.70     2.07         1.383921   \n",
       "19     Udinese         Inter     1.71     2.06         1.000063   \n",
       "24     Ipswich   Aston Villa     1.71     2.07         1.123872   \n",
       "1        Milan         Lecce     1.47     2.55         1.582038   \n",
       "37       Parma      Cagliari     1.72     2.05         1.133076   \n",
       "\n",
       "    away_goals_pred  total_goals over_under  \n",
       "17         1.130997     2.863869       over  \n",
       "20         1.917117     2.922165       over  \n",
       "21         1.400697     2.894241       over  \n",
       "35         1.588643     3.041379       over  \n",
       "14         1.666342     3.050263       over  \n",
       "19         2.111656     3.111719       over  \n",
       "24         2.266101     3.389973       over  \n",
       "1          0.706984     2.289022      under  \n",
       "37         1.153461     2.286537      under  "
      ]
     },
     "execution_count": 5,
     "metadata": {},
     "output_type": "execute_result"
    }
   ],
   "source": [
    "betting_summary"
   ]
  },
  {
   "cell_type": "markdown",
   "id": "8ec1d31d-9aac-424c-8998-7276126d8e43",
   "metadata": {},
   "source": [
    "In summary, we have successfully developed a model to predict goals for the upcoming matches. By leveraging the over/under conditions, we can strategically identify fixtures that maximize potential yield. By placing bets on these selected matches, we position ourselves to generate a passive profit.\n",
    "\n",
    "This approach not only relies on our data-driven predictions but also incorporates established betting strategies that have the potential to yield favorable outcomes. As we continue to refine our model and enhance our betting tactics, we can further optimize our chances for consistent profitability in the sports betting landscape."
   ]
  }
 ],
 "metadata": {
  "kernelspec": {
   "display_name": "Python 3 (ipykernel)",
   "language": "python",
   "name": "python3"
  },
  "language_info": {
   "codemirror_mode": {
    "name": "ipython",
    "version": 3
   },
   "file_extension": ".py",
   "mimetype": "text/x-python",
   "name": "python",
   "nbconvert_exporter": "python",
   "pygments_lexer": "ipython3",
   "version": "3.12.4"
  }
 },
 "nbformat": 4,
 "nbformat_minor": 5
}
