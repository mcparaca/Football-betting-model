{
 "cells": [
  {
   "cell_type": "markdown",
   "id": "befed3ae-042b-461d-bf50-c549564753a9",
   "metadata": {},
   "source": [
    "## Downloading New Data for Future Matches\n",
    "\n",
    "This notebook is dedicated to the **download and web scraping** of data for upcoming matches that have not yet taken place. As we prepare to make predictions for these future games, it’s essential to adapt our approach due to the unavailability of certain information that typically comes from completed matches. \n",
    "\n",
    "### Changing Our Approach\n",
    "\n",
    "Given that the match data is not fully available for fixtures that have yet to occur, we will rely on **bookmaker websites** to obtain the necessary odds and related statistics. This shift in strategy is crucial because:\n",
    "\n",
    "- **Limited Information:** For matches that are yet to be played, details such as team form, player injuries, and historical match data may not be fully represented. Therefore, traditional data sources may not provide the comprehensive insights we need.\n",
    "  \n",
    "- **Odds as Indicators:** The odds provided by bookmakers serve as valuable indicators of expected match outcomes based on the current perceptions and analyses of experts. They reflect the bookmakers' expectations regarding the probability of various results (home win, draw, away win), which can be extremely useful for our predictive model.\n",
    "\n",
    "### Web Scraping Process\n",
    "\n",
    "To implement this, we will perform the following steps:\n",
    "\n",
    "1. **Identify Reliable Sources:** We will target reputable bookmaker websites that consistently provide up-to-date odds for football matches.\n",
    "\n",
    "2. **Extract Odds Data:** Utilizing web scraping techniques, we will collect data on odds for upcoming matches. This will include odds for different outcomes such as over/under goals, match result, and other relevant betting markets.\n",
    "\n",
    "3. **Data Cleaning and Formatting:** Once we have the odds data, we will clean and format it to ensure consistency with our existing dataset. This includes aligning the data with the matches in our database, making sure that the teams, dates, and other relevant information match correctly.\n",
    "\n",
    "4. **Integrating New Data:** After cleaning the odds data, we will integrate it into our existing framework, allowing us to enhance our model with the most current information available for upcoming matches.\n",
    "\n",
    "### Importance of this Data\n",
    "\n",
    "By incorporating this newly acquired data into our predictive model, we can ensure that our forecasts for future matches are informed by the latest insights and market expectations. This enables us to refine our betting strategies, improve prediction accuracy, and ultimately put a bet on the matches that fall under previously designed catergories and conditions.\n"
   ]
  },
  {
   "cell_type": "code",
   "execution_count": 1,
   "id": "eb861228-bf32-4dfe-9f38-a42721e31a68",
   "metadata": {},
   "outputs": [],
   "source": [
    "import numpy as np\n",
    "import pandas as pd\n",
    "pd.set_option('display.max_columns', None)\n",
    "\n",
    "import tensorflow as tf\n",
    "from tensorflow.keras.models import Sequential\n",
    "from tensorflow.keras.layers import Dense, Dropout\n",
    "import requests\n",
    "from bs4 import BeautifulSoup\n",
    "import pandas as pd\n",
    "from Dataset_functions import *\n",
    "from selenium import webdriver\n",
    "from selenium.webdriver.common.by import By\n",
    "from selenium.webdriver.support import expected_conditions as EC\n",
    "from selenium.webdriver.edge.service import Service\n",
    "from selenium.webdriver.edge.options import Options\n",
    "from selenium.webdriver.common.action_chains import ActionChains\n",
    "import time\n",
    "from selenium.webdriver.support.ui import WebDriverWait"
   ]
  },
  {
   "cell_type": "markdown",
   "id": "c01e56cb-2fe9-482a-8fc7-b47095be24d5",
   "metadata": {},
   "source": [
    "First we need to create a dictionary for our teams as the bookmaker has quite different names for them."
   ]
  },
  {
   "cell_type": "code",
   "execution_count": 2,
   "id": "69c257a0-3e36-4c97-a493-3f8434a20e79",
   "metadata": {},
   "outputs": [],
   "source": [
    "teams = ['Arsenal', 'Brighton', 'Chelsea', 'Crystal Palace', 'Everton',\n",
    "       'Southampton', 'Watford', 'West Brom', 'Man United', 'Newcastle',\n",
    "       'Swansea', 'Stoke', 'Burnley', 'Leicester', 'Bournemouth',\n",
    "       'Liverpool', 'Huddersfield', 'Tottenham', 'Man City', 'West Ham',\n",
    "       'Hamburg', 'Reading', 'Bochum', 'Ipswich', 'Millwall', 'Preston',\n",
    "       'Sheffield United', 'Wigan', 'Bristol City', 'Brentford',\n",
    "       'Greuther Furth', 'Regensburg', 'Birmingham', 'Magdeburg', 'Leeds',\n",
    "       'Darmstadt', 'Heidenheim', 'Union Berlin', 'Hull', 'Dresden',\n",
    "       \"Nott'm Forest\", 'Middlesbrough', 'St Pauli', 'Paderborn',\n",
    "       'Ingolstadt', 'Aston Villa', 'Derby', 'Bolton', 'Norwich', 'QPR',\n",
    "       'Sheffield Weds', 'Duisburg', 'Bielefeld', 'Blackburn',\n",
    "       'Rotherham', 'Fulham', 'Wolves', 'Erzgebirge Aue', 'Holstein Kiel',\n",
    "       'Sandhausen', 'FC Koln', 'Girona', 'Cadiz', 'Albacete', 'Betis',\n",
    "       'Cardiff', 'Alcorcon', 'Cordoba', 'Elche', 'Lugo', 'Lazio',\n",
    "       'Chievo', 'Barcelona', 'Celta', 'Villarreal', 'Mallorca',\n",
    "       'Las Palmas', 'Oviedo', 'Zaragoza', 'Parma', 'Sassuolo', 'Torino',\n",
    "       'Bologna', 'Empoli', 'Vallecano', 'Real Madrid', 'Eibar',\n",
    "       'Atalanta', 'Gimnastic', 'Valencia', 'Ath Bilbao', 'Leganes',\n",
    "       'Getafe', 'Bayern Munich', 'Extremadura UD', 'Malaga', 'Wolfsburg',\n",
    "       'Werder Bremen', \"M'gladbach\", 'Hertha', 'Freiburg', 'Alaves',\n",
    "       'Valladolid', 'Ath Madrid', 'Reus Deportiu', 'Fortuna Dusseldorf',\n",
    "       'Juventus', 'Napoli', 'Numancia', 'Sevilla', 'Mainz', 'Espanol',\n",
    "       'Dortmund', 'Almeria', 'Osasuna', 'Granada', 'Cagliari',\n",
    "       'Frosinone', 'Genoa', 'Fiorentina', 'Spal', 'Udinese', 'Sp Gijon',\n",
    "       'Inter', 'Rayo Majadahonda', 'Levante', 'Roma', 'Milan',\n",
    "       'Hannover', 'Tenerife', 'Leverkusen', 'Hoffenheim',\n",
    "       'Ein Frankfurt', 'Augsburg', 'Nurnberg', 'Stuttgart', 'Sampdoria',\n",
    "       'RB Leipzig', 'Schalke 04', 'La Coruna', 'Huesca', 'Sociedad',\n",
    "       'Osnabruck', 'Wehen', 'Luton', 'Karlsruhe', 'Barnsley', 'Charlton',\n",
    "       'Santander', 'Pisa', 'Mirandes', 'Crotone', 'Salernitana',\n",
    "       'Cittadella', 'Venezia', 'Virtus Entella', 'Ascoli',\n",
    "       'Ponferradina', 'Perugia', 'Verona', 'Pordenone', 'Livorno',\n",
    "       'Cremonese', 'Spezia', 'Benevento', 'Cosenza', 'Fuenlabrada',\n",
    "       'Trapani', 'Lecce', 'Juve Stabia', 'Pescara', 'Brescia', 'Wycombe',\n",
    "       'Coventry', 'Wurzburger Kickers', 'Castellon', 'Cartagena',\n",
    "       'Monza', 'Logrones', 'Braunschweig', 'Reggiana', 'Reggina',\n",
    "       'Vicenza', 'Sabadell', 'Hansa Rostock', 'Peterboro', 'Sociedad B',\n",
    "       'Blackpool', 'Ternana', 'Ibiza', 'Amorebieta', 'Burgos', 'Como',\n",
    "       'Alessandria', 'Kaiserslautern', 'Sunderland', 'Palermo', 'Modena',\n",
    "       'Villarreal B', 'Bari', 'Sudtirol', 'Andorra', 'Plymouth',\n",
    "       'Elversberg', 'FeralpiSalo', 'Catanzaro', 'Ferrol', 'Eldense',\n",
    "       'Lecco', 'Ulm', 'Oxford', 'Preußen Münster', 'Portsmouth']\n",
    "\n",
    "team_spanish_dict = {\n",
    "    'Athletic Bilbao': 'Ath Bilbao',\n",
    "    'CD Leganes': 'Leganes',\n",
    "    'Celta Vigo': 'Celta',\n",
    "    'Espanyol': 'Espanol',\n",
    "    'Girona FC': 'Girona',\n",
    "    'Las Palmas UD':'Las Palmas',\n",
    "    'Real Betis':'Betis',\n",
    "    'Real Madryt':'Real Madrid',\n",
    "    'Real Sociedad':'Sociedad',\n",
    "    'Real Valladolid':'Valladolid',\n",
    "    'FC Barcelona': 'Barcelona',\n",
    "    'Rayo Vallecano':'Vallecano',\n",
    "    'Atletico Madryt': 'Ath Madrid'\n",
    "}\n",
    "\n",
    "team_english_dict = {\n",
    "    'Fulham FC': 'Fulham',\n",
    "    'Manchester City': 'Man City',\n",
    "    'Wolverhampton': 'Wolves',\n",
    "    'Manchester United': 'Man United',\n",
    "    'Nottingham': \"Nott'm Forest\",\n",
    "    'Arsenal FC':'Arsenal'\n",
    "}\n",
    "\n",
    "team_italian_dict = {\n",
    "    'Hellas Verona': 'Verona',\n",
    "    'AC Monza Brianz': 'Monza',\n",
    "    'AS Roma': 'Roma',\n",
    "    'FC Parma': 'Parma',\n",
    "    'AC Milan': 'Milan',\n",
    "    'Como Calcio':'Como'\n",
    "}\n",
    "\n",
    "team_german_dict = {\n",
    "    'Bayern':'Bayern Munich',\n",
    "     \"Borussia M'gladbach\": \"M'gladbach\",\n",
    "    'Borussia Dortmund':'Dortmund',\n",
    "    'RB Lipsk':'RB Leipzig',\n",
    "    'VfL Bochum':'Bochum',\n",
    "    '1. FC Heidenheim': 'Heidenheim',\n",
    "    'Werder Brema':'Werder Bremen',\n",
    "    'Frankfurt': 'Ein Frankfurt',\n",
    "    'St. Pauli':'St Pauli'\n",
    "}"
   ]
  },
  {
   "cell_type": "markdown",
   "id": "d6bbce0b-b88a-4b27-b97b-cec153a97fbb",
   "metadata": {},
   "source": [
    "### Updating URLs and File Names\n",
    "\n",
    "To effectively gather the data for upcoming matches, we need to specify the URLs from which we will scrape the next matches data. Additionally, we will designate file names that will help us organize and store the downloaded data for easy access and analysis. \n",
    "\n",
    "#### URLs for Web Scraping\n",
    "\n",
    "We will compile a list of URLs from the same websites that we used for creation of the main dat table. These URLs are crucial as they will direct our web scraping efforts to the correct sources.\n",
    "\n",
    "#### File Names for Data Storage\n",
    "\n",
    "To maintain organization and facilitate data management, we will assign specific file names to the datasets we download. These file names will reflect the content and date of the data to ensure clarity as well as update the data that we already have downloaded before\n",
    "\n",
    "#### Summary\n",
    "\n",
    "With the URLs and file names defined, we are prepared to proceed with our web scraping activities. This structured approach will ensure that we efficiently gather and organize the necessary data for our analysis and modeling efforts.\n"
   ]
  },
  {
   "cell_type": "code",
   "execution_count": 3,
   "id": "e6d0296d-7f8b-405b-a348-bd7242f7099c",
   "metadata": {},
   "outputs": [],
   "source": [
    "url_bundesliga = \"https://www.football-data.co.uk/mmz4281/2425/D1.csv\"\n",
    "file_name_bundesliga = 'D1_24_25_1.csv'\n",
    "\n",
    "url_premier = \"https://www.football-data.co.uk/mmz4281/2425/E0.csv\"\n",
    "file_name_premier = '24_25_eng.csv'\n",
    "\n",
    "url_laliga = \"https://www.football-data.co.uk/mmz4281/2425/SP1.csv\"\n",
    "file_name_laliga = 'SP_24_25.csv'\n",
    "\n",
    "url_seriea = \"https://www.football-data.co.uk/mmz4281/2425/I1.csv\"\n",
    "file_name_seriea = 'I1_24_25_1.csv'"
   ]
  },
  {
   "cell_type": "code",
   "execution_count": 4,
   "id": "5a1a9c98-fb9b-4b22-9833-f00ab19f076b",
   "metadata": {},
   "outputs": [],
   "source": [
    "update_matches(url_bundesliga, file_name_bundesliga)\n",
    "update_matches(url_premier, file_name_premier)\n",
    "update_matches(url_laliga, file_name_laliga)\n",
    "update_matches(url_seriea, file_name_seriea)"
   ]
  },
  {
   "cell_type": "markdown",
   "id": "8742bd3b-ade3-43c7-97cb-8400d4e83260",
   "metadata": {},
   "source": [
    "### Specifying Bookmaker Odds and Matches for Analysis\n",
    "\n",
    "For each league included in our analysis, we will provide specific URLs that direct us to the bookmaker odds relevant to upcoming matches. Additionally, we will determine the number of matches to analyze for each league, typically focusing on around **10 matches** per matchday, although this may vary slightly depending on the scheduling of fixtures.\n",
    "\n",
    "#### URLs for Bookmaker Odds\n",
    "\n",
    "For each league, we will compile a list of URLs that link to the respective bookmaker's odds pages. This will ensure that we can effectively scrape the relevant data for our analysis.\n",
    "\n",
    "#### Formatting Matches for Integration\n",
    "\n",
    "Once we have the URLs established and the number of matches to analyze specified, the next step involves formatting the data appropriately. We will:\n",
    "\n",
    "1. **Scrape Odds Data**: Using the provided URLs, we will extract the odds information for the specified matches.\n",
    "\n",
    "2. **Match Formatting**: Each match will be formatted to include key details such as:\n",
    "   - Teams involved\n",
    "   - Match date and time\n",
    "   - Odds for various outcomes (e.g., win, draw, loss, over/under 2.5)\n",
    "\n",
    "3. **Integrate with General League Data**: After formatting the matches, we will add this information to our general league data files. This ensures that our existing datasets are updated with the latest odds and fixtures, allowing us to conduct comprehensive analyses and make informed predictions."
   ]
  },
  {
   "cell_type": "code",
   "execution_count": 20,
   "id": "595e79dc-25c8-4472-ad37-a9acfa42cc32",
   "metadata": {},
   "outputs": [
    {
     "name": "stdout",
     "output_type": "stream",
     "text": [
      "10 10 10 10 10 10 10 10\n"
     ]
    }
   ],
   "source": [
    "spanish1_url = 'https://www.iforbet.pl/zaklady-bukmacherskie/156/159'\n",
    "spanish1_next_fixtures = create_df_next_fixtures(scrape_next_fixtures(spanish1_url), number_of_matches=10)"
   ]
  },
  {
   "cell_type": "code",
   "execution_count": 22,
   "id": "6e666f21-efea-4911-a17e-bbd4d74b2dac",
   "metadata": {},
   "outputs": [],
   "source": [
    "append_to_df_all(spanish1_next_fixtures,team_spanish_dict, 'SP_24_25.csv', 'SP_24_25_v1.csv')"
   ]
  },
  {
   "cell_type": "code",
   "execution_count": 24,
   "id": "3bb54ec5-5374-4ff0-a0b9-09e8e65b26c3",
   "metadata": {},
   "outputs": [
    {
     "name": "stdout",
     "output_type": "stream",
     "text": [
      "10 10 10 10 10 10 10 10\n"
     ]
    }
   ],
   "source": [
    "english1_url = 'https://www.iforbet.pl/zaklady-bukmacherskie/155/199'\n",
    "english1_next_fixtures = create_df_next_fixtures(scrape_next_fixtures(english1_url), number_of_matches=10)"
   ]
  },
  {
   "cell_type": "code",
   "execution_count": 25,
   "id": "648afa13-5d9c-4f0a-ad82-071080af901c",
   "metadata": {},
   "outputs": [],
   "source": [
    "append_to_df_all(english1_next_fixtures,team_english_dict, '24_25_eng.csv', '24_25_eng_v1.csv')"
   ]
  },
  {
   "cell_type": "code",
   "execution_count": 26,
   "id": "d1045db0-7b8d-4157-8608-40be8fd07c3f",
   "metadata": {},
   "outputs": [
    {
     "name": "stdout",
     "output_type": "stream",
     "text": [
      "10 10 10 10 10 10 10 10\n"
     ]
    }
   ],
   "source": [
    "italian1_url = 'https://www.iforbet.pl/zaklady-bukmacherskie/118/122'\n",
    "italian1_next_fixtures = create_df_next_fixtures(scrape_next_fixtures(italian1_url), number_of_matches=10)"
   ]
  },
  {
   "cell_type": "code",
   "execution_count": 27,
   "id": "946818b1-62ad-4c2e-a23d-e7d54188b418",
   "metadata": {},
   "outputs": [],
   "source": [
    "append_to_df_all(italian1_next_fixtures,team_italian_dict, 'I1_24_25_1.csv', 'I1_24_25_v1.csv')"
   ]
  },
  {
   "cell_type": "code",
   "execution_count": 28,
   "id": "ad5d4b84-3f9b-4ffc-99bc-adcfbb2a47b9",
   "metadata": {},
   "outputs": [
    {
     "name": "stdout",
     "output_type": "stream",
     "text": [
      "9 9 9 9 9 9 9 9\n"
     ]
    }
   ],
   "source": [
    "german1_url = 'https://www.iforbet.pl/zaklady-bukmacherskie/141/29975'\n",
    "german1_next_fixtures = create_df_next_fixtures(scrape_next_fixtures(german1_url), number_of_matches=9)"
   ]
  },
  {
   "cell_type": "code",
   "execution_count": 29,
   "id": "810ad34d-e8d4-465f-a7f1-6fdcda1ad60f",
   "metadata": {},
   "outputs": [],
   "source": [
    "append_to_df_all(german1_next_fixtures,team_german_dict, 'D1_24_25_1.csv', 'D1_24_25_v1.csv')"
   ]
  },
  {
   "cell_type": "markdown",
   "id": "54843cde-1060-4bc7-ae65-08089f0f9361",
   "metadata": {},
   "source": [
    "#### Summary\n",
    "\n",
    "By systematically specifying the URLs for bookmaker odds and the number of matches to analyze for each league, we streamline the data collection process. Formatting the scraped data to integrate seamlessly with our existing datasets enhances our analytical capabilities, ensuring we are well-equipped to predict outcomes for future matches. This structured approach is crucial for refining our betting strategies and maximizing profitability in our betting endeavors."
   ]
  }
 ],
 "metadata": {
  "kernelspec": {
   "display_name": "Python 3 (ipykernel)",
   "language": "python",
   "name": "python3"
  },
  "language_info": {
   "codemirror_mode": {
    "name": "ipython",
    "version": 3
   },
   "file_extension": ".py",
   "mimetype": "text/x-python",
   "name": "python",
   "nbconvert_exporter": "python",
   "pygments_lexer": "ipython3",
   "version": "3.12.4"
  }
 },
 "nbformat": 4,
 "nbformat_minor": 5
}
