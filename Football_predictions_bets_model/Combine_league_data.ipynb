{
 "cells": [
  {
   "cell_type": "markdown",
   "id": "3f97cab8-cd4b-4f23-995d-457b38af703f",
   "metadata": {},
   "source": [
    "# Downloading Data\n",
    "\n",
    "This notebook is designed to gather and prepare the base dataset required to create a comprehensive historical database of football matches from the top four European leagues (Premier League, La Liga, Serie A, Bundesliga) and their second divisions. The ultimate objective is to leverage this data to predict match outcomes, with a specific focus on goal scoring. The data collection process is critical, as it lays the groundwork for feature engineering and model development, where we will combine season-by-season data into a single, cohesive dataset that includes essential variables such as match dates, teams, results, betting odds, and a wide array of match statistics. This notebook will also include the creation of new features to improve predictive performance by identifying patterns that correlate with match outcomes.\n",
    "\n",
    "The project’s initial task involved locating reliable and rich sources of historical football data. I identified several trusted websites that provide the necessary information:\n",
    "- General match data and statistics: https://www.football-data.co.uk/ – This site contains a wealth of data on historical matches, including detailed statistics like goals, shots, fouls, and cards, as well as betting odds from different sources.\n",
    "- Expected goals (xG): https://fbref.com – A more advanced dataset, which includes xG, a metric that quantifies the quality of scoring chances.\n",
    "- Current betting odds: https://www.iforbet.pl – This source provides up-to-date betting odds, an important variable for incorporating market-based expectations into the model\n",
    "- Team elo rating: http://clubelo.com/ – Elo ratings provide a continuous measure of team strength, accounting for historical performance and recent form.\n",
    "\n",
    "After gathering the data from these sources, I focused on the top seven to eight most recent seasons for eight leagues. These datasets were downloaded and systematically cleaned to ensure consistency across the various formats and sources. The goal was to standardize key variables like match dates, team names, and results, while integrating additional variables such as betting odds, team ratings, and performance statistics.\n",
    "\n",
    "#### Data Cleaning and Integration\n",
    "\n",
    "Data cleaning was a crucial step, as it involved handling missing values, resolving discrepancies in team names, and ensuring that all variables were uniformly formatted across seasons and leagues. Each dataset had slightly different structures and terminologies, so careful attention was given to aligning them to a unified format. I merged the data season-by-season and across the different leagues, combining them into one comprehensive table. This master table now serves as the primary dataset for further analysis and model building.\n",
    "\n",
    "Additionally, I referred to the documentation provided on: https://www.football-data.co.uk/notes.txt, which details the structure and meaning of the various columns and statistics available. This helped me ensure that all primary features were correctly interpreted and formatted.\n",
    "\n",
    "#### Feature Engineering\n",
    "\n",
    "In the next steps of this notebook, I will focus on feature engineering, where I will extract and create new variables from the existing data. These new features are intended to provide deeper insights and improve the predictive power of the model. For instance, I plan to calculate rolling averages of team performance metrics (like shots on target, goals scored, and conceded) over the past five to ten matches. Other derived variables could include form-based indicators, home and away team statistics, head-to-head performance, and more nuanced team ratings.\n",
    "\n",
    "In total, this process will generate over a hundred meaningful variables, which will then be used for training machine learning models aimed at predicting the outcome of matches in terms of goals scored. These features will capture both team-specific attributes (e.g., current form, defensive strength, offensive capabilities) and match-level characteristics (e.g., betting odds, Elo ratings, and home advantage). The aim is to provide the model with as much relevant contextual information as possible to improve the accuracy of the predictions.\n",
    "\n",
    "By creating a well-organized and comprehensive dataset, we ensure a strong foundation for subsequent predictive modeling tasks, and by thoroughly cleaning and integrating the data, we minimize potential biases and errors that could affect the model’s performance. Each step in this notebook has been meticulously designed to lead to a reliable, accurate outcome prediction model."
   ]
  },
  {
   "cell_type": "code",
   "execution_count": 43,
   "id": "84879a4b-829b-4e5c-b385-c50dbfc49e88",
   "metadata": {},
   "outputs": [],
   "source": [
    "import pandas as pd\n",
    "import numpy as np\n",
    "import warnings\n",
    "from Dataset_functions import *\n",
    "# Suppress all warnings\n",
    "warnings.filterwarnings(\"ignore\")\n",
    "pd.set_option('display.max_columns', None)"
   ]
  },
  {
   "cell_type": "markdown",
   "id": "28988676-49f4-4966-8175-3db41cc23dfa",
   "metadata": {},
   "source": [
    "### Data Preprocessing and Feature Engineering\r\n",
    "\r\n",
    "After downloading the CSV files for each league, I renamed them systematically to ensure that if any errors occurred during data preparation, I could easily trace the source of the issue. To handle the specific needs of each dataset, I created tailored functions for each league. These functions, housed in the `Dataset_functions` notebook, address several key preprocessing tasks:\r\n",
    "\r\n",
    "- **Scraping Expected Goals Data**: For each league, I scraped websites such as FBref to gather advanced metrics like Expected Goals (xG), which provides deeper insight into the quality of scoring opportunities in each match. This data plays a crucial role in enhancing the model's understanding of team performance.\r\n",
    "  \r\n",
    "- **Data Cleaning and Standardization**: Cleaning the data involved multiple steps, including removing unnecessary columns and variables that weren’t directly relevant to predicting match outcomes. I ensured that the formatting of match dates was consistent across all leagues, which is essential when merging datasets or conducting time-series analysis. Dummy variables were created for the teams in each match to represent categorical data numerically, making it easier for machine learning models to interpret team-specific interactions.\r\n",
    "  \r\n",
    "- **Odds Conversion**: Betting odds, initially in decimal format, were converted into probabilities, taking into account the bookmaker’s margin. This transformation provides a more accurate representation of the implied likelihood of match outcomes (win, lose, or draw), which can serve as an additional predictor in the model.\r\n",
    "  \r\n",
    "- **Feature Creation from Existing Statistics**: I generated new variables from the raw data. For instance, statistics like shots, goals, and corners were used to compute more insightful metrics, such as averages over specific periods or performance comparisons between home and away games. These features help capture trends that might influence match o#utcomes.\r\n",
    "\r\n",
    "## Feature Engineering Overview\r\n",
    "\r\n",
    "In the next step, I focused extensively on feature engineering, where I transformed existing data into new, more informative features to enhance the predictive capability of the model. The primary variables I concentrated on include **points**, **goals**, **shots**, **corners**, **form**, **home/away status**, and **expected goals (xG)**. By breaking down each of these variables, I was able to create numerous features that capture a team’s performance trends over time.\r\n",
    "\r\n",
    "For example, in the case of **goals**, I calculated various metrics:\r\n",
    "\r\n",
    "- The total number of goals scored by a team in previous matches\r\n",
    "- The number of goals conceded in recent games\r\n",
    "- The average number of goals scored and conceded per game\r\n",
    "- The total and average number of goals in the last *n* games, such as the last 5 or 10 matches\r\n",
    "- Separate statistics for home and away games, recognizing the significant impact that venue has on team performance\r\n",
    "\r\n",
    "This process alone generated **36 different features** related to goals, such as \"home goals scored in the last 5 games\" or \"average away goals conceded in the last 10 games.\" By repeating this method for other primary variables like shots, points, and corners, I was able to build a robust dataset with enough depth to feed a machine learning model with valuable, non-trivial inputs.\r\n",
    "\r\n",
    "These features provide the model with rich contextual information, helping it understand patterns of team performance, form, and tendencies based on home/away status. This careful feature engineering is designed to improve the accuracy of the model’s predictions by supplying it with a wide variety of meaningful variables, rather than relying on raw data alone.\r\n"
   ]
  },
  {
   "cell_type": "markdown",
   "id": "046ae6f3-e6bd-4024-8fc4-87de4bd0cd23",
   "metadata": {},
   "source": [
    "## Premier League data"
   ]
  },
  {
   "cell_type": "code",
   "execution_count": null,
   "id": "3a3868ac-f355-44d4-b09c-621f5e0bbfbb",
   "metadata": {},
   "outputs": [],
   "source": [
    "premier_league_season17_19 = prepare_dataframe('17_18_eng.csv', '2017-2018')\n",
    "premier_league_season18_19 = prepare_dataframe('18_19_eng.csv', '2018-2019')\n",
    "premier_league_season19_20 = prepare_dataframe('19_20_eng.csv', '2019-2020')\n",
    "premier_league_season20_21 = prepare_dataframe('20_21_eng.csv', '2020-2021')\n",
    "premier_league_season21_22 = prepare_dataframe('21_22_eng.csv', '2021-2022')\n",
    "premier_league_season22_23 = prepare_dataframe('22_23_eng.csv', '2022-2023')\n",
    "premier_league_season23_24 = prepare_dataframe('23_24_eng.csv', '2023-2024')\n",
    "premier_league_season24_25 = prepare_dataframe('24_25_eng.csv', '2024-2025')\n",
    "\n",
    "premier_league_data = pd.concat([premier_league_season17_19, premier_league_season18_19, premier_league_season19_20, premier_league_season20_21, premier_league_season21_22, premier_league_season22_23, premier_league_season23_24,premier_league_season24_25])\n",
    "premier_league_data.fillna(0, inplace = True)\n",
    "premier_league_data.to_csv('premier_league_data.csv', index = False)"
   ]
  },
  {
   "cell_type": "markdown",
   "id": "ea360734-f56b-4199-b1ea-0c3a288e7e4d",
   "metadata": {},
   "source": [
    "## Championship data"
   ]
  },
  {
   "cell_type": "code",
   "execution_count": 49,
   "id": "4d8084e9-07b5-47c6-ac34-c8591fbae855",
   "metadata": {},
   "outputs": [],
   "source": [
    "championship_season18_19 = prepare_dataframe_championship('championship_18_19.csv', '2018-2019')\n",
    "championship_season19_20 = prepare_dataframe_championship('championship_19_20.csv', '2019-2020')\n",
    "championship_season20_21 = prepare_dataframe_championship('championship_20_21.csv', '2020-2021')\n",
    "championship_season21_22 = prepare_dataframe_championship('championship_21_22.csv', '2021-2022')\n",
    "championship_season22_23 = prepare_dataframe_championship('championship_22_23.csv', '2022-2023')\n",
    "championship_season23_24 = prepare_dataframe_championship('championship_23_24.csv', '2023-2024')\n",
    "championship_season24_25 = prepare_dataframe_championship('championship_24_25.csv', '2024-2025')"
   ]
  },
  {
   "cell_type": "code",
   "execution_count": null,
   "id": "329dd5a2-17cb-426a-98bd-d237d83ce5e1",
   "metadata": {},
   "outputs": [],
   "source": [
    "championship_data = pd.concat([championship_season18_19, championship_season19_20, championship_season20_21, championship_season21_22, championship_season22_23, championship_season23_24,championship_season24_25])\n",
    "championship_data.fillna(0, inplace = True)\n",
    "championship_data.to_csv('championship_data.csv', index = False)"
   ]
  },
  {
   "cell_type": "markdown",
   "id": "8ea0bfe2-8c39-4aed-bb4f-0fcc4ea4fba6",
   "metadata": {},
   "source": [
    "## La Liga data"
   ]
  },
  {
   "cell_type": "code",
   "execution_count": 30,
   "id": "78e46ae8-5034-4f88-89b4-9b9e625ee888",
   "metadata": {},
   "outputs": [],
   "source": [
    "# # spanish1_season17_18 = prepare_dataframe_spanish1('SP1_17_18.csv', '2017-2018')\n",
    "spanish1_season18_19 = prepare_dataframe_spanish1('SP1_18_19.csv', '2018-2019')\n",
    "spanish1_season19_20 = prepare_dataframe_spanish1('SP1_19_20.csv', '2019-2020')\n",
    "spanish1_season20_21 = prepare_dataframe_spanish1('SP1_20_21.csv', '2020-2021')\n",
    "spanish1_season21_22 = prepare_dataframe_spanish1('SP1_21_22.csv', '2021-2022')\n",
    "spanish1_season22_23 = prepare_dataframe_spanish1('SP1_22_23.csv', '2022-2023')\n",
    "spanish1_season23_24 = prepare_dataframe_spanish1('SP1_23_24.csv', '2023-2024')\n",
    "spanish1_season24_25 = prepare_dataframe_spanish1('SP_24_25.csv', '2024-2025')"
   ]
  },
  {
   "cell_type": "code",
   "execution_count": 31,
   "id": "7266b978-d712-46a3-9e2b-512d08b2e16d",
   "metadata": {},
   "outputs": [],
   "source": [
    "spanish1_data = pd.concat([spanish1_season18_19, spanish1_season19_20, spanish1_season20_21, spanish1_season21_22, spanish1_season22_23, spanish1_season23_24,spanish1_season24_25])\n",
    "spanish1_data.fillna(0, inplace = True)\n",
    "spanish1_data.to_csv('spanish1_data.csv', index = False)"
   ]
  },
  {
   "cell_type": "markdown",
   "id": "29e056e7-ad3d-47ed-b405-ceef299b57df",
   "metadata": {},
   "source": [
    "## La Liga 2 data"
   ]
  },
  {
   "cell_type": "code",
   "execution_count": null,
   "id": "d009ea0b-893d-4f78-9be5-6d272e6be7f0",
   "metadata": {},
   "outputs": [],
   "source": [
    "spanish2_season18_19 = prepare_dataframe_spanish2('SP2_18_19.csv', '2018-2019')\n",
    "spanish2_season19_20 = prepare_dataframe_spanish2('SP2_19_20.csv', '2019-2020')\n",
    "spanish2_season20_21 = prepare_dataframe_spanish2('SP2_20_21.csv', '2020-2021')\n",
    "spanish2_season21_22 = prepare_dataframe_spanish2('SP2_21_22.csv', '2021-2022')\n",
    "spanish2_season22_23 = prepare_dataframe_spanish2('SP2_22_23.csv', '2022-2023')\n",
    "spanish2_season23_24 = prepare_dataframe_spanish2('SP2_23_24.csv', '2023-2024')\n",
    "# spanish2_season24_25 = prepare_dataframe_spanish2('SP2_24_25.csv', '2024-2025')"
   ]
  },
  {
   "cell_type": "code",
   "execution_count": null,
   "id": "3a6acf29-4a8d-426a-b3f1-0eaf85ba73fe",
   "metadata": {},
   "outputs": [],
   "source": [
    "spanish2_data = pd.concat([spanish2_season18_19, spanish2_season19_20, spanish2_season20_21, spanish2_season21_22, spanish2_season22_23, spanish2_season23_24])\n",
    "spanish2_data.fillna(0, inplace = True)\n",
    "spanish2_data.to_csv('spanish2_data.csv', index = False)"
   ]
  },
  {
   "cell_type": "markdown",
   "id": "2494faab-52ae-40dd-85f1-ca5683ffe9bc",
   "metadata": {},
   "source": [
    "## Serie A data"
   ]
  },
  {
   "cell_type": "code",
   "execution_count": null,
   "id": "448f1526-1928-4c11-8656-2cceb823fd13",
   "metadata": {},
   "outputs": [],
   "source": [
    "# spanish1_season17_18 = prepare_dataframe_spanish1('SP1_17_18.csv', '2017-2018')\n",
    "italian1_season18_19 = prepare_dataframe_italian1('I1_18_19.csv', '2018-2019')\n",
    "italian1_season19_20 = prepare_dataframe_italian1('I1_19_20.csv', '2019-2020')\n",
    "italian1_season20_21 = prepare_dataframe_italian1('I1_20_21.csv', '2020-2021')\n",
    "italian1_season21_22 = prepare_dataframe_italian1('I1_21_22.csv', '2021-2022')\n",
    "italian1_season22_23 = prepare_dataframe_italian1('I1_22_23.csv', '2022-2023')\n",
    "italian1_season23_24 = prepare_dataframe_italian1('I1_23_24.csv', '2023-2024')\n",
    "# italian1_season24_25 = prepare_dataframe_italian1('I1_24_25.csv', '2024-2025')"
   ]
  },
  {
   "cell_type": "code",
   "execution_count": null,
   "id": "620bea1d-7c72-4cd4-9dc2-4a6571df08ce",
   "metadata": {},
   "outputs": [],
   "source": [
    "italian1_data = pd.concat([italian1_season18_19, italian1_season19_20, italian1_season20_21, italian1_season21_22, italian1_season22_23, italian1_season23_24])\n",
    "italian1_data.fillna(0, inplace = True)\n",
    "italian1_data.to_csv('italian1_data.csv', index = False)"
   ]
  },
  {
   "cell_type": "markdown",
   "id": "f0c2e210-5345-42f0-944c-8cdcc6ccf2eb",
   "metadata": {},
   "source": [
    "## Serie B data"
   ]
  },
  {
   "cell_type": "code",
   "execution_count": null,
   "id": "3dc1fc52-d992-4a03-bc6f-10db2ddc1d76",
   "metadata": {},
   "outputs": [],
   "source": [
    "# spanish1_season17_18 = prepare_dataframe_spanish1('SP1_17_18.csv', '2017-2018')\n",
    "# italian2_season18_19 = prepare_dataframe_italian2('I2_18_19.csv', '2018-2019')\n",
    "italian2_season19_20 = prepare_dataframe_italian2('I2_19_20.csv', '2019-2020')\n",
    "italian2_season20_21 = prepare_dataframe_italian2('I2_20_21.csv', '2020-2021')\n",
    "italian2_season21_22 = prepare_dataframe_italian2('I2_21_22.csv', '2021-2022')\n",
    "italian2_season22_23 = prepare_dataframe_italian2('I2_22_23.csv', '2022-2023')\n",
    "italian2_season23_24 = prepare_dataframe_italian2('I2_23_24.csv', '2023-2024')\n",
    "# italian1_season24_25 = prepare_dataframe_italian1('I1_24_25.csv', '2024-2025')"
   ]
  },
  {
   "cell_type": "code",
   "execution_count": null,
   "id": "20c228d3-7797-4f16-8d6e-51d91d9e748b",
   "metadata": {},
   "outputs": [],
   "source": [
    "italian2_data = pd.concat([italian1_season19_20, italian1_season20_21, italian1_season21_22, italian1_season22_23, italian1_season23_24])\n",
    "italian2_data.fillna(0, inplace = True)\n",
    "italian2_data.to_csv('italian2_data.csv', index = False)"
   ]
  },
  {
   "cell_type": "markdown",
   "id": "bdd4b9d7-7119-43f0-8c25-858d14bf4e88",
   "metadata": {},
   "source": [
    "## 1. Bundesliga data"
   ]
  },
  {
   "cell_type": "code",
   "execution_count": null,
   "id": "07f186dd-2bd2-480e-ae72-37071412e53d",
   "metadata": {},
   "outputs": [],
   "source": [
    "german1_season18_19 = prepare_dataframe_german1('D1_18_19.csv', '2018-2019')\n",
    "german1_season19_20 = prepare_dataframe_german1('D1_19_20.csv', '2019-2020')\n",
    "german1_season20_21 = prepare_dataframe_german1('D1_20_21.csv', '2020-2021')\n",
    "german1_season21_22 = prepare_dataframe_german1('D1_21_22.csv', '2021-2022')\n",
    "german1_season22_23 = prepare_dataframe_german1('D1_22_23.csv', '2022-2023')\n",
    "german1_season23_24 = prepare_dataframe_german1('D1_23_24.csv', '2023-2024')\n",
    "german1_season24_25 = prepare_dataframe_german1('D1_24_25.csv', '2024-2025')"
   ]
  },
  {
   "cell_type": "code",
   "execution_count": null,
   "id": "262d5548-3e0d-407c-9f49-cac443dbabd5",
   "metadata": {},
   "outputs": [],
   "source": [
    "german1_data = pd.concat([german1_season18_19, german1_season19_20, german1_season20_21, german1_season21_22, german1_season22_23, german1_season23_24,german1_season24_25])\n",
    "german1_data.fillna(0, inplace = True)\n",
    "german1_data.to_csv('german1_data.csv', index = False)"
   ]
  },
  {
   "cell_type": "markdown",
   "id": "963d674e-3b9a-4619-9cfd-e09dc3b18fdb",
   "metadata": {},
   "source": [
    "## 2. Bundesliga data"
   ]
  },
  {
   "cell_type": "code",
   "execution_count": null,
   "id": "e401388f-4e57-4077-b9f2-981c84f2f3dd",
   "metadata": {},
   "outputs": [],
   "source": [
    "german2_season18_19 = prepare_dataframe_german2('D2_18_19.csv', '2018-2019')\n",
    "german2_season19_20 = prepare_dataframe_german2('D2_19_20.csv', '2019-2020')\n",
    "german2_season20_21 = prepare_dataframe_german2('D2_20_21.csv', '2020-2021')\n",
    "german2_season21_22 = prepare_dataframe_german2('D2_21_22.csv', '2021-2022')\n",
    "german2_season22_23 = prepare_dataframe_german2('D2_22_23.csv', '2022-2023')\n",
    "german2_season23_24 = prepare_dataframe_german2('D2_23_24.csv', '2023-2024')\n",
    "german2_season24_25 = prepare_dataframe_german2('D2_24_25.csv', '2024-2025')"
   ]
  },
  {
   "cell_type": "code",
   "execution_count": null,
   "id": "07518065-fed4-45f7-ac54-87533597284d",
   "metadata": {},
   "outputs": [],
   "source": [
    "german2_data = pd.concat([german2_season18_19, german2_season19_20, german2_season20_21, german2_season21_22, german2_season22_23, german2_season23_24,german2_season24_25])\n",
    "german2_data.fillna(0, inplace = True)\n",
    "german2_data.to_csv('german2_data.csv', index = False)"
   ]
  },
  {
   "cell_type": "markdown",
   "id": "49ac5453-3749-47c8-9056-b784e44610dc",
   "metadata": {},
   "source": [
    "## H2H Data (Head-to-Head)\r\n",
    "\r\n",
    "In addition to the previously described variables, we can extend the feature set by incorporating head-to-head (H2H) matchups. In league systems, two teams typically face each other twice per season, and historical data shows that certain teams consistently outperform their rivals, even when other factors suggest otherwise. This makes H2H data an important consideration when building predictive models, as the outcomes of these specific matchups can be influenced by team-specific dynamics.\r\n",
    "\r\n",
    "The `get_team_h2h` function captures this dynamic by calculating H2H statistics such as goals and points scored in previous encounters between the two teams. This function aggregates historical H2H data, providing insights into long-standing rivalries and how they have evolved over time. These features are derived from the available history of matches and offer additional predictive power by acknowledging the unique relationships between certain teams.\r\n",
    "\r\n",
    "By leveraging H2H data, we enhance the model's ability to predict outcomes in situations where specific rivalries play a key role, independent of other team performance metrics.\r\n"
   ]
  },
  {
   "cell_type": "code",
   "execution_count": 34,
   "id": "96218aad-6422-46b2-90c6-daab8bd4ac06",
   "metadata": {},
   "outputs": [],
   "source": [
    "season_data0 = pd.read_csv('24_25_eng.csv')\n",
    "season_data00 = pd.read_csv('23_24_eng.csv')\n",
    "season_data2 = pd.read_csv('22_23_eng.csv')\n",
    "season_data3 = pd.read_csv('21_22_eng.csv')\n",
    "season_data4 = pd.read_csv('20_21_eng.csv')\n",
    "season_data5 = pd.read_csv('19_20_eng.csv')\n",
    "season_data6 = pd.read_csv('18_19_eng.csv')\n",
    "season_data7 = pd.read_csv('17_18_eng.csv')\n",
    "\n",
    "championship_data0 = pd.read_csv('championship_24_25.csv')\n",
    "championship_data1 = pd.read_csv('championship_23_24.csv')\n",
    "championship_data2 = pd.read_csv('championship_22_23.csv')\n",
    "championship_data3 = pd.read_csv('championship_21_22.csv')\n",
    "championship_data4 = pd.read_csv('championship_20_21.csv')\n",
    "championship_data5 = pd.read_csv('championship_19_20.csv')\n",
    "championship_data6 = pd.read_csv('championship_18_19.csv')\n",
    "\n",
    "spanish1_data0 = pd.read_csv('SP_24_25.csv')\n",
    "spanish1_data1 = pd.read_csv('SP1_23_24.csv')\n",
    "spanish1_data2 = pd.read_csv('SP1_22_23.csv')\n",
    "spanish1_data3 = pd.read_csv('SP1_21_22.csv')\n",
    "spanish1_data4 = pd.read_csv('SP1_20_21.csv')\n",
    "spanish1_data5 = pd.read_csv('SP1_19_20.csv')\n",
    "spanish1_data6 = pd.read_csv('SP1_18_19.csv')\n",
    "\n",
    "# spanish2_data0 = pd.read_csv('SP2_24_25.csv')\n",
    "spanish2_data1 = pd.read_csv('SP2_23_24.csv')\n",
    "spanish2_data2 = pd.read_csv('SP2_22_23.csv')\n",
    "spanish2_data3 = pd.read_csv('SP2_21_22.csv')\n",
    "spanish2_data4 = pd.read_csv('SP2_20_21.csv')\n",
    "spanish2_data5 = pd.read_csv('SP2_19_20.csv')\n",
    "spanish2_data6 = pd.read_csv('SP2_18_19.csv')\n",
    "\n",
    "italian1_data1 = pd.read_csv('I1_23_24.csv')\n",
    "italian1_data2 = pd.read_csv('I1_22_23.csv')\n",
    "italian1_data3 = pd.read_csv('I1_21_22.csv')\n",
    "italian1_data4 = pd.read_csv('I1_20_21.csv')\n",
    "italian1_data5 = pd.read_csv('I1_19_20.csv')\n",
    "italian1_data6 = pd.read_csv('I1_18_19.csv')\n",
    "\n",
    "italian2_data1 = pd.read_csv('I2_23_24.csv')\n",
    "italian2_data2 = pd.read_csv('I2_22_23.csv')\n",
    "italian2_data3 = pd.read_csv('I2_21_22.csv')\n",
    "italian2_data4 = pd.read_csv('I2_20_21.csv')\n",
    "italian2_data5 = pd.read_csv('I2_19_20.csv')\n",
    "# italian2_data6 = pd.read_csv('I2_18_19.csv')\n",
    "\n",
    "german1_data0 = pd.read_csv('D1_24_25.csv')\n",
    "german1_data1 = pd.read_csv('D1_23_24.csv')\n",
    "german1_data2 = pd.read_csv('D1_22_23.csv')\n",
    "german1_data3 = pd.read_csv('D1_21_22.csv')\n",
    "german1_data4 = pd.read_csv('D1_20_21.csv')\n",
    "german1_data5 = pd.read_csv('D1_19_20.csv')\n",
    "german1_data6 = pd.read_csv('D1_18_19.csv')\n",
    "\n",
    "german2_data0 = pd.read_csv('D2_24_25.csv')\n",
    "german2_data1 = pd.read_csv('D2_23_24.csv')\n",
    "german2_data2 = pd.read_csv('D2_22_23.csv')\n",
    "german2_data3 = pd.read_csv('D2_21_22.csv')\n",
    "german2_data4 = pd.read_csv('D2_20_21.csv')\n",
    "german2_data5 = pd.read_csv('D2_19_20.csv')\n",
    "german2_data6 = pd.read_csv('D2_18_19.csv')\n",
    "\n",
    "season_data = pd.concat([season_data7, season_data6,season_data5,season_data4,season_data3,season_data2,season_data00,season_data0,\n",
    "                        championship_data0, championship_data1, championship_data2, championship_data3, championship_data4, championship_data5, championship_data6,\n",
    "                        spanish1_data0, spanish1_data1,spanish1_data2,spanish1_data3,spanish1_data4,spanish1_data5,spanish1_data6,\n",
    "                          spanish2_data1,spanish2_data2,spanish2_data3,spanish2_data4,spanish2_data5,spanish2_data6,\n",
    "                        italian1_data1,italian1_data2,italian1_data3,italian1_data4,italian1_data5,italian1_data6,\n",
    "                         italian2_data2,italian2_data3,italian2_data4,italian2_data5,italian2_data1,\n",
    "                         german1_data0, german1_data1,german1_data2,german1_data3,german1_data4,german1_data5,german1_data6,\n",
    "                          german2_data0, german2_data1,german2_data2,german2_data3,german2_data4,german2_data5,german2_data6,\n",
    "                        ])\n",
    "season_data['Date'] = season_data['Date'].str[:10]\n",
    "season_data['Date'] = pd.to_datetime(season_data['Date'],format = '%d/%m/%Y') \n",
    "season_data.sort_values(['Date'],ascending = True, inplace = True)\n",
    "season_data.reset_index(drop = True, inplace = True)\n",
    "season_data =  get_team_h2h(season_data)"
   ]
  },
  {
   "cell_type": "code",
   "execution_count": 35,
   "id": "56750e93-0f37-49ed-972a-c68b7ab5ec2f",
   "metadata": {},
   "outputs": [],
   "source": [
    "season_data.to_csv('h2h_data.csv', index = False)"
   ]
  },
  {
   "cell_type": "code",
   "execution_count": null,
   "id": "b8f1c058-6698-4838-97c7-351523772b41",
   "metadata": {},
   "outputs": [],
   "source": []
  }
 ],
 "metadata": {
  "kernelspec": {
   "display_name": "Python 3 (ipykernel)",
   "language": "python",
   "name": "python3"
  },
  "language_info": {
   "codemirror_mode": {
    "name": "ipython",
    "version": 3
   },
   "file_extension": ".py",
   "mimetype": "text/x-python",
   "name": "python",
   "nbconvert_exporter": "python",
   "pygments_lexer": "ipython3",
   "version": "3.12.4"
  }
 },
 "nbformat": 4,
 "nbformat_minor": 5
}
