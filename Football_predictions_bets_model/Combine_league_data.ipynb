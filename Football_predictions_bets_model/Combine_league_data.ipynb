{
 "cells": [
  {
   "cell_type": "code",
   "execution_count": 1,
   "id": "84879a4b-829b-4e5c-b385-c50dbfc49e88",
   "metadata": {},
   "outputs": [],
   "source": [
    "import pandas as pd\n",
    "import numpy as np\n",
    "import warnings\n",
    "from Dataset_functions import *\n",
    "# Suppress all warnings\n",
    "warnings.filterwarnings(\"ignore\")\n",
    "pd.set_option('display.max_columns', None)"
   ]
  },
  {
   "cell_type": "code",
   "execution_count": 23,
   "id": "3a3868ac-f355-44d4-b09c-621f5e0bbfbb",
   "metadata": {},
   "outputs": [],
   "source": [
    "premier_league_season17_19 = prepare_dataframe('17_18_eng.csv', '2017-2018')\n",
    "premier_league_season18_19 = prepare_dataframe('18_19_eng.csv', '2018-2019')\n",
    "premier_league_season19_20 = prepare_dataframe('19_20_eng.csv', '2019-2020')\n",
    "premier_league_season20_21 = prepare_dataframe('20_21_eng.csv', '2020-2021')\n",
    "premier_league_season21_22 = prepare_dataframe('21_22_eng.csv', '2021-2022')\n",
    "premier_league_season22_23 = prepare_dataframe('22_23_eng.csv', '2022-2023')\n",
    "premier_league_season23_24 = prepare_dataframe('23_24_eng.csv', '2023-2024')\n",
    "premier_league_season24_25 = prepare_dataframe('24_25_eng.csv', '2024-2025')\n",
    "\n",
    "premier_league_data = pd.concat([premier_league_season17_19, premier_league_season18_19, premier_league_season19_20, premier_league_season20_21, premier_league_season21_22, premier_league_season22_23, premier_league_season23_24,premier_league_season24_25])\n",
    "premier_league_data.fillna(0, inplace = True)\n",
    "# premier_league_data[['Home_h2h_Goals', 'Home_h2h_Points', 'Away_h2h_Goals', 'Away_h2h_Points']] = season_data[['Home_h2h_Goals', 'Home_h2h_Points', 'Away_h2h_Goals', 'Away_h2h_Points']]\n",
    "premier_league_data.to_csv('premier_league_data.csv', index = False)"
   ]
  },
  {
   "cell_type": "code",
   "execution_count": 9,
   "id": "4d8084e9-07b5-47c6-ac34-c8591fbae855",
   "metadata": {},
   "outputs": [],
   "source": [
    "championship_season18_19 = prepare_dataframe_championship('championship_18_19.csv', '2018-2019')\n",
    "championship_season19_20 = prepare_dataframe_championship('championship_19_20.csv', '2019-2020')\n",
    "championship_season20_21 = prepare_dataframe_championship('championship_20_21.csv', '2020-2021')\n",
    "championship_season21_22 = prepare_dataframe_championship('championship_21_22.csv', '2021-2022')\n",
    "championship_season22_23 = prepare_dataframe_championship('championship_22_23.csv', '2022-2023')\n",
    "championship_season23_24 = prepare_dataframe_championship('championship_23_24.csv', '2023-2024')\n",
    "championship_season24_25 = prepare_dataframe_championship('championship_24_25.csv', '2024-2025')"
   ]
  },
  {
   "cell_type": "code",
   "execution_count": 10,
   "id": "329dd5a2-17cb-426a-98bd-d237d83ce5e1",
   "metadata": {},
   "outputs": [],
   "source": [
    "championship_data = pd.concat([championship_season18_19, championship_season19_20, championship_season20_21, championship_season21_22, championship_season22_23, championship_season23_24,championship_season24_25])\n",
    "championship_data.fillna(0, inplace = True)\n",
    "championship_data.to_csv('championship_data.csv', index = False)"
   ]
  },
  {
   "cell_type": "code",
   "execution_count": 12,
   "id": "78e46ae8-5034-4f88-89b4-9b9e625ee888",
   "metadata": {},
   "outputs": [],
   "source": [
    "# spanish1_season17_18 = prepare_dataframe_spanish1('SP1_17_18.csv', '2017-2018')\n",
    "spanish1_season18_19 = prepare_dataframe_spanish1('SP1_18_19.csv', '2018-2019')\n",
    "spanish1_season19_20 = prepare_dataframe_spanish1('SP1_19_20.csv', '2019-2020')\n",
    "spanish1_season20_21 = prepare_dataframe_spanish1('SP1_20_21.csv', '2020-2021')\n",
    "spanish1_season21_22 = prepare_dataframe_spanish1('SP1_21_22.csv', '2021-2022')\n",
    "spanish1_season22_23 = prepare_dataframe_spanish1('SP1_22_23.csv', '2022-2023')\n",
    "spanish1_season23_24 = prepare_dataframe_spanish1('SP1_23_24.csv', '2023-2024')\n",
    "spanish1_season24_25 = prepare_dataframe_spanish1('SP_24_25.csv', '2024-2025')"
   ]
  },
  {
   "cell_type": "code",
   "execution_count": 13,
   "id": "7266b978-d712-46a3-9e2b-512d08b2e16d",
   "metadata": {},
   "outputs": [],
   "source": [
    "spanish1_data = pd.concat([spanish1_season18_19, spanish1_season19_20, spanish1_season20_21, spanish1_season21_22, spanish1_season22_23, spanish1_season23_24,spanish1_season24_25])\n",
    "spanish1_data.fillna(0, inplace = True)\n",
    "spanish1_data.to_csv('spanish1_data.csv', index = False)"
   ]
  },
  {
   "cell_type": "code",
   "execution_count": 15,
   "id": "d009ea0b-893d-4f78-9be5-6d272e6be7f0",
   "metadata": {},
   "outputs": [],
   "source": [
    "spanish2_season18_19 = prepare_dataframe_spanish2('SP2_18_19.csv', '2018-2019')\n",
    "spanish2_season19_20 = prepare_dataframe_spanish2('SP2_19_20.csv', '2019-2020')\n",
    "spanish2_season20_21 = prepare_dataframe_spanish2('SP2_20_21.csv', '2020-2021')\n",
    "spanish2_season21_22 = prepare_dataframe_spanish2('SP2_21_22.csv', '2021-2022')\n",
    "spanish2_season22_23 = prepare_dataframe_spanish2('SP2_22_23.csv', '2022-2023')\n",
    "spanish2_season23_24 = prepare_dataframe_spanish2('SP2_23_24.csv', '2023-2024')\n",
    "# spanish2_season24_25 = prepare_dataframe_spanish2('SP2_24_25.csv', '2024-2025')"
   ]
  },
  {
   "cell_type": "code",
   "execution_count": 16,
   "id": "3a6acf29-4a8d-426a-b3f1-0eaf85ba73fe",
   "metadata": {},
   "outputs": [],
   "source": [
    "spanish2_data = pd.concat([spanish2_season18_19, spanish2_season19_20, spanish2_season20_21, spanish2_season21_22, spanish2_season22_23, spanish2_season23_24])\n",
    "spanish2_data.fillna(0, inplace = True)\n",
    "spanish2_data.to_csv('spanish2_data.csv', index = False)"
   ]
  },
  {
   "cell_type": "code",
   "execution_count": 18,
   "id": "448f1526-1928-4c11-8656-2cceb823fd13",
   "metadata": {},
   "outputs": [],
   "source": [
    "# spanish1_season17_18 = prepare_dataframe_spanish1('SP1_17_18.csv', '2017-2018')\n",
    "italian1_season18_19 = prepare_dataframe_italian1('I1_18_19.csv', '2018-2019')\n",
    "italian1_season19_20 = prepare_dataframe_italian1('I1_19_20.csv', '2019-2020')\n",
    "italian1_season20_21 = prepare_dataframe_italian1('I1_20_21.csv', '2020-2021')\n",
    "italian1_season21_22 = prepare_dataframe_italian1('I1_21_22.csv', '2021-2022')\n",
    "italian1_season22_23 = prepare_dataframe_italian1('I1_22_23.csv', '2022-2023')\n",
    "italian1_season23_24 = prepare_dataframe_italian1('I1_23_24.csv', '2023-2024')\n",
    "# italian1_season24_25 = prepare_dataframe_italian1('I1_24_25.csv', '2024-2025')"
   ]
  },
  {
   "cell_type": "code",
   "execution_count": 19,
   "id": "620bea1d-7c72-4cd4-9dc2-4a6571df08ce",
   "metadata": {},
   "outputs": [],
   "source": [
    "italian1_data = pd.concat([italian1_season18_19, italian1_season19_20, italian1_season20_21, italian1_season21_22, italian1_season22_23, italian1_season23_24])\n",
    "italian1_data.fillna(0, inplace = True)\n",
    "italian1_data.to_csv('italian1_data.csv', index = False)"
   ]
  },
  {
   "cell_type": "code",
   "execution_count": 21,
   "id": "3dc1fc52-d992-4a03-bc6f-10db2ddc1d76",
   "metadata": {},
   "outputs": [],
   "source": [
    "# spanish1_season17_18 = prepare_dataframe_spanish1('SP1_17_18.csv', '2017-2018')\n",
    "# italian2_season18_19 = prepare_dataframe_italian2('I2_18_19.csv', '2018-2019')\n",
    "italian2_season19_20 = prepare_dataframe_italian2('I2_19_20.csv', '2019-2020')\n",
    "italian2_season20_21 = prepare_dataframe_italian2('I2_20_21.csv', '2020-2021')\n",
    "italian2_season21_22 = prepare_dataframe_italian2('I2_21_22.csv', '2021-2022')\n",
    "italian2_season22_23 = prepare_dataframe_italian2('I2_22_23.csv', '2022-2023')\n",
    "italian2_season23_24 = prepare_dataframe_italian2('I2_23_24.csv', '2023-2024')\n",
    "# italian1_season24_25 = prepare_dataframe_italian1('I1_24_25.csv', '2024-2025')"
   ]
  },
  {
   "cell_type": "code",
   "execution_count": 22,
   "id": "20c228d3-7797-4f16-8d6e-51d91d9e748b",
   "metadata": {},
   "outputs": [],
   "source": [
    "italian2_data = pd.concat([italian1_season19_20, italian1_season20_21, italian1_season21_22, italian1_season22_23, italian1_season23_24])\n",
    "italian2_data.fillna(0, inplace = True)\n",
    "italian2_data.to_csv('italian2_data.csv', index = False)"
   ]
  },
  {
   "cell_type": "code",
   "execution_count": 24,
   "id": "07f186dd-2bd2-480e-ae72-37071412e53d",
   "metadata": {},
   "outputs": [],
   "source": [
    "german1_season18_19 = prepare_dataframe_german1('D1_18_19.csv', '2018-2019')\n",
    "german1_season19_20 = prepare_dataframe_german1('D1_19_20.csv', '2019-2020')\n",
    "german1_season20_21 = prepare_dataframe_german1('D1_20_21.csv', '2020-2021')\n",
    "german1_season21_22 = prepare_dataframe_german1('D1_21_22.csv', '2021-2022')\n",
    "german1_season22_23 = prepare_dataframe_german1('D1_22_23.csv', '2022-2023')\n",
    "german1_season23_24 = prepare_dataframe_german1('D1_23_24.csv', '2023-2024')\n",
    "german1_season24_25 = prepare_dataframe_german1('D1_24_25.csv', '2024-2025')"
   ]
  },
  {
   "cell_type": "code",
   "execution_count": 25,
   "id": "262d5548-3e0d-407c-9f49-cac443dbabd5",
   "metadata": {},
   "outputs": [],
   "source": [
    "german1_data = pd.concat([german1_season18_19, german1_season19_20, german1_season20_21, german1_season21_22, german1_season22_23, german1_season23_24,german1_season24_25])\n",
    "german1_data.fillna(0, inplace = True)\n",
    "german1_data.to_csv('german1_data.csv', index = False)"
   ]
  },
  {
   "cell_type": "code",
   "execution_count": 27,
   "id": "e401388f-4e57-4077-b9f2-981c84f2f3dd",
   "metadata": {},
   "outputs": [],
   "source": [
    "german2_season18_19 = prepare_dataframe_german2('D2_18_19.csv', '2018-2019')\n",
    "german2_season19_20 = prepare_dataframe_german2('D2_19_20.csv', '2019-2020')\n",
    "german2_season20_21 = prepare_dataframe_german2('D2_20_21.csv', '2020-2021')\n",
    "german2_season21_22 = prepare_dataframe_german2('D2_21_22.csv', '2021-2022')\n",
    "german2_season22_23 = prepare_dataframe_german2('D2_22_23.csv', '2022-2023')\n",
    "german2_season23_24 = prepare_dataframe_german2('D2_23_24.csv', '2023-2024')\n",
    "german2_season24_25 = prepare_dataframe_german2('D2_24_25.csv', '2024-2025')"
   ]
  },
  {
   "cell_type": "code",
   "execution_count": null,
   "id": "07518065-fed4-45f7-ac54-87533597284d",
   "metadata": {},
   "outputs": [],
   "source": [
    "german2_data = pd.concat([german2_season18_19, german2_season19_20, german2_season20_21, german2_season21_22, german2_season22_23, german2_season23_24,german2_season24_25])\n",
    "german2_data.fillna(0, inplace = True)\n",
    "german2_data.to_csv('german2_data.csv', index = False)"
   ]
  },
  {
   "cell_type": "code",
   "execution_count": 13,
   "id": "96218aad-6422-46b2-90c6-daab8bd4ac06",
   "metadata": {},
   "outputs": [],
   "source": [
    "season_data0 = pd.read_csv('24_25_eng.csv')\n",
    "season_data00 = pd.read_csv('23_24_eng.csv')\n",
    "season_data2 = pd.read_csv('22_23_eng.csv')\n",
    "season_data3 = pd.read_csv('21_22_eng.csv')\n",
    "season_data4 = pd.read_csv('20_21_eng.csv')\n",
    "season_data5 = pd.read_csv('19_20_eng.csv')\n",
    "season_data6 = pd.read_csv('18_19_eng.csv')\n",
    "season_data7 = pd.read_csv('17_18_eng.csv')\n",
    "\n",
    "championship_data0 = pd.read_csv('championship_24_25.csv')\n",
    "championship_data1 = pd.read_csv('championship_23_24.csv')\n",
    "championship_data2 = pd.read_csv('championship_22_23.csv')\n",
    "championship_data3 = pd.read_csv('championship_21_22.csv')\n",
    "championship_data4 = pd.read_csv('championship_20_21.csv')\n",
    "championship_data5 = pd.read_csv('championship_19_20.csv')\n",
    "championship_data6 = pd.read_csv('championship_18_19.csv')\n",
    "\n",
    "spanish1_data0 = pd.read_csv('SP_24_25.csv')\n",
    "spanish1_data1 = pd.read_csv('SP1_23_24.csv')\n",
    "spanish1_data2 = pd.read_csv('SP1_22_23.csv')\n",
    "spanish1_data3 = pd.read_csv('SP1_21_22.csv')\n",
    "spanish1_data4 = pd.read_csv('SP1_20_21.csv')\n",
    "spanish1_data5 = pd.read_csv('SP1_19_20.csv')\n",
    "spanish1_data6 = pd.read_csv('SP1_18_19.csv')\n",
    "\n",
    "# spanish2_data0 = pd.read_csv('SP2_24_25.csv')\n",
    "spanish2_data1 = pd.read_csv('SP2_23_24.csv')\n",
    "spanish2_data2 = pd.read_csv('SP2_22_23.csv')\n",
    "spanish2_data3 = pd.read_csv('SP2_21_22.csv')\n",
    "spanish2_data4 = pd.read_csv('SP2_20_21.csv')\n",
    "spanish2_data5 = pd.read_csv('SP2_19_20.csv')\n",
    "spanish2_data6 = pd.read_csv('SP2_18_19.csv')\n",
    "\n",
    "italian1_data1 = pd.read_csv('I1_23_24.csv')\n",
    "italian1_data2 = pd.read_csv('I1_22_23.csv')\n",
    "italian1_data3 = pd.read_csv('I1_21_22.csv')\n",
    "italian1_data4 = pd.read_csv('I1_20_21.csv')\n",
    "italian1_data5 = pd.read_csv('I1_19_20.csv')\n",
    "italian1_data6 = pd.read_csv('I1_18_19.csv')\n",
    "\n",
    "italian2_data1 = pd.read_csv('I2_23_24.csv')\n",
    "italian2_data2 = pd.read_csv('I2_22_23.csv')\n",
    "italian2_data3 = pd.read_csv('I2_21_22.csv')\n",
    "italian2_data4 = pd.read_csv('I2_20_21.csv')\n",
    "italian2_data5 = pd.read_csv('I2_19_20.csv')\n",
    "# italian2_data6 = pd.read_csv('I2_18_19.csv')\n",
    "\n",
    "german1_data0 = pd.read_csv('D1_24_25.csv')\n",
    "german1_data1 = pd.read_csv('D1_23_24.csv')\n",
    "german1_data2 = pd.read_csv('D1_22_23.csv')\n",
    "german1_data3 = pd.read_csv('D1_21_22.csv')\n",
    "german1_data4 = pd.read_csv('D1_20_21.csv')\n",
    "german1_data5 = pd.read_csv('D1_19_20.csv')\n",
    "german1_data6 = pd.read_csv('D1_18_19.csv')\n",
    "\n",
    "german2_data0 = pd.read_csv('D2_24_25.csv')\n",
    "german2_data1 = pd.read_csv('D2_23_24.csv')\n",
    "german2_data2 = pd.read_csv('D2_22_23.csv')\n",
    "german2_data3 = pd.read_csv('D2_21_22.csv')\n",
    "german2_data4 = pd.read_csv('D2_20_21.csv')\n",
    "german2_data5 = pd.read_csv('D2_19_20.csv')\n",
    "german2_data6 = pd.read_csv('D2_18_19.csv')\n",
    "\n",
    "season_data = pd.concat([season_data7, season_data6,season_data5,season_data4,season_data3,season_data2,season_data00,season_data0,\n",
    "                        championship_data0, championship_data1, championship_data2, championship_data3, championship_data4, championship_data5, championship_data6,\n",
    "                        spanish1_data0, spanish1_data1,spanish1_data2,spanish1_data3,spanish1_data4,spanish1_data5,spanish1_data6,\n",
    "                          spanish2_data1,spanish2_data2,spanish2_data3,spanish2_data4,spanish2_data5,spanish2_data6,\n",
    "                        italian1_data1,italian1_data2,italian1_data3,italian1_data4,italian1_data5,italian1_data6,\n",
    "                         italian2_data2,italian2_data3,italian2_data4,italian2_data5,italian2_data1,\n",
    "                         german1_data0, german1_data1,german1_data2,german1_data3,german1_data4,german1_data5,german1_data6,\n",
    "                          german2_data0, german2_data1,german2_data2,german2_data3,german2_data4,german2_data5,german2_data6,\n",
    "                        ])\n",
    "season_data['Date'] = pd.to_datetime(season_data['Date'], format = \"mixed\")\n",
    "season_data.sort_values(['Date'],ascending = True, inplace = True)\n",
    "season_data.reset_index(drop = True, inplace = True)\n",
    "season_data =  get_team_h2h(season_data)"
   ]
  },
  {
   "cell_type": "code",
   "execution_count": 23,
   "id": "7fea488f-7584-4420-92e9-eb06aa22a4e8",
   "metadata": {},
   "outputs": [],
   "source": [
    "season_data0['Date'] = pd.to_datetime(season_data0['Date'], format = 'mixed')"
   ]
  },
  {
   "cell_type": "code",
   "execution_count": 29,
   "id": "56750e93-0f37-49ed-972a-c68b7ab5ec2f",
   "metadata": {},
   "outputs": [],
   "source": [
    "season_data.to_csv('h2h_data.csv', index = False)"
   ]
  }
 ],
 "metadata": {
  "kernelspec": {
   "display_name": "Python 3 (ipykernel)",
   "language": "python",
   "name": "python3"
  },
  "language_info": {
   "codemirror_mode": {
    "name": "ipython",
    "version": 3
   },
   "file_extension": ".py",
   "mimetype": "text/x-python",
   "name": "python",
   "nbconvert_exporter": "python",
   "pygments_lexer": "ipython3",
   "version": "3.12.4"
  }
 },
 "nbformat": 4,
 "nbformat_minor": 5
}
