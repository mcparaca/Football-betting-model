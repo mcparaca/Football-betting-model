{
 "cells": [
  {
   "cell_type": "code",
   "execution_count": 1,
   "id": "84879a4b-829b-4e5c-b385-c50dbfc49e88",
   "metadata": {},
   "outputs": [],
   "source": [
    "import pandas as pd\n",
    "import numpy as np\n",
    "import warnings\n",
    "from Dataset_functions import *\n",
    "# Suppress all warnings\n",
    "warnings.filterwarnings(\"ignore\")\n",
    "pd.set_option('display.max_columns', None)"
   ]
  },
  {
   "cell_type": "code",
   "execution_count": 551,
   "id": "1060d1f3-6fd0-45c0-b198-8d6be2d4d362",
   "metadata": {},
   "outputs": [],
   "source": [
    "teams = season_data['HomeTeam'].unique()\n",
    "    # teams_pairs = [[i,j]  for i in teams for j in teams if i!=j]\n",
    "teams_pairs = [sorted([i, j]) for i in teams for j in teams if i != j]\n",
    "\n",
    "# Remove duplicates where the same pair appears in reverse order\n",
    "distinct_teams_pairs = []\n",
    "for pair in teams_pairs:\n",
    "    if pair not in distinct_teams_pairs:\n",
    "        distinct_teams_pairs.append(pair)\n",
    "teams_pairs = distinct_teams_pairs"
   ]
  },
  {
   "cell_type": "code",
   "execution_count": 563,
   "id": "63c812b1-dde3-450f-aa64-3c23ea5cefa3",
   "metadata": {},
   "outputs": [],
   "source": [
    "def get_team_h2h(league_data):\n",
    "    league_data['Home_h2h_Goals'] = np.zeros(len(league_data))\n",
    "    league_data['Home_h2h_Points'] = np.zeros(len(league_data))\n",
    "    league_data['Away_h2h_Goals'] = np.zeros(len(league_data))\n",
    "    league_data['Away_h2h_Points'] = np.zeros(len(league_data))\n",
    "    teams = league_data['HomeTeam'].unique()\n",
    "    teams_pairs = [[i,j]  for i in teams for j in teams if i!=j]\n",
    "    teams_pairs = [sorted([i, j]) for i in teams for j in teams if i != j]\n",
    "\n",
    "    # Remove duplicates where the same pair appears in reverse order\n",
    "    distinct_teams_pairs = []\n",
    "    for pair in teams_pairs:\n",
    "        if pair not in distinct_teams_pairs:\n",
    "            distinct_teams_pairs.append(pair)\n",
    "    teams_pairs = distinct_teams_pairs\n",
    "    for k in range(len(teams_pairs)):\n",
    "        team_stats = {}\n",
    "        teams_h2h = league_data.loc[((league_data['HomeTeam'] == teams_pairs[k][0]) &(league_data['AwayTeam'] == teams_pairs[k][1])) | ((league_data['AwayTeam'] == teams_pairs[k][0]) &(league_data['HomeTeam'] == teams_pairs[k][1]))]\n",
    "        \n",
    "        def get_team_stats(team):\n",
    "            if team not in team_stats:\n",
    "                team_stats[team] = {'goals': 0, 'points': 0}\n",
    "            return team_stats[team]['goals'], team_stats[team]['points']\n",
    "        \n",
    "        # Function to update the cumulative goals and points for a team\n",
    "        def update_team_stats(team, goals, points):\n",
    "            if team not in team_stats:\n",
    "                team_stats[team] = {'goals': 0, 'points': 0}\n",
    "            team_stats[team]['goals'] += goals\n",
    "            team_stats[team]['points'] += points\n",
    "        \n",
    "        # Lists to store cumulative data before each match\n",
    "        home_team_cum_goals = []\n",
    "        home_team_cum_points = []\n",
    "        away_team_cum_goals = []\n",
    "        away_team_cum_points = []\n",
    "        \n",
    "        \n",
    "        for _, row in teams_h2h.iterrows():\n",
    "            home_team = row['HomeTeam']\n",
    "            away_team = row['AwayTeam']\n",
    "            \n",
    "            # Get cumulative stats for both teams before the match\n",
    "            home_goals_before, home_points_before = get_team_stats(home_team)\n",
    "            away_goals_before, away_points_before = get_team_stats(away_team)\n",
    "            \n",
    "            # Append the current cumulative stats to the lists\n",
    "            home_team_cum_goals.append(home_goals_before)\n",
    "            home_team_cum_points.append(home_points_before)\n",
    "            away_team_cum_goals.append(away_goals_before)\n",
    "            away_team_cum_points.append(away_points_before)\n",
    "            \n",
    "            # Update the stats after the match\n",
    "            # Goals\n",
    "            home_goals = row['FTHG']\n",
    "            away_goals = row['FTAG']\n",
    "            update_team_stats(home_team, home_goals, 0)\n",
    "            update_team_stats(away_team, away_goals, 0)\n",
    "            \n",
    "            # Points\n",
    "            if home_goals > away_goals:\n",
    "                update_team_stats(home_team, 0, 3)  # Home team wins\n",
    "            elif home_goals < away_goals:\n",
    "                update_team_stats(away_team, 0, 3)  # Away team wins\n",
    "            else:\n",
    "                update_team_stats(home_team, 0, 1)  # Draw\n",
    "                update_team_stats(away_team, 0, 1)  # Draw\n",
    "        # print(home_team_cum_goals)\n",
    "        # fixtures = np.linspace(0,len(home_team_cum_goals)-1,len(home_team_cum_goals))\n",
    "        teams_h2h['Home_h2h_Goals'] = home_team_cum_goals/np.linspace(0,len(home_team_cum_goals)-1,len(home_team_cum_goals))\n",
    "        teams_h2h['Home_h2h_Points'] = home_team_cum_points/np.linspace(0,len(home_team_cum_goals)-1,len(home_team_cum_goals))\n",
    "        teams_h2h['Away_h2h_Goals'] = away_team_cum_goals/np.linspace(0,len(home_team_cum_goals)-1,len(home_team_cum_goals))\n",
    "        teams_h2h['Away_h2h_Points'] = away_team_cum_points/np.linspace(0,len(home_team_cum_goals)-1,len(home_team_cum_goals))\n",
    "        teams_h2h.fillna(0,inplace = True)\n",
    "        league_data.update(teams_h2h)\n",
    "    league_data.replace([np.inf, -np.inf], 0, inplace=True)\n",
    "        # league_data = pd.merge(league_data, teams_h2h[['Date',\t'HomeTeam',\t'AwayTeam','Home_h2h_Goals', 'Home_h2h_Points', 'Away_h2h_Goals', 'Away_h2h_Points']], on =['Date', 'HomeTeam', 'AwayTeam'], how = 'outer')\n",
    "    return league_data"
   ]
  },
  {
   "cell_type": "code",
   "execution_count": 607,
   "id": "3a3868ac-f355-44d4-b09c-621f5e0bbfbb",
   "metadata": {},
   "outputs": [],
   "source": [
    "premier_league_season17_19 = prepare_dataframe('17_18_eng.csv', '2017-2018')\n",
    "premier_league_season18_19 = prepare_dataframe('18_19_eng.csv', '2018-2019')\n",
    "premier_league_season19_20 = prepare_dataframe('19_20_eng.csv', '2019-2020')\n",
    "premier_league_season20_21 = prepare_dataframe('20_21_eng.csv', '2020-2021')\n",
    "premier_league_season21_22 = prepare_dataframe('21_22_eng.csv', '2021-2022')\n",
    "premier_league_season22_23 = prepare_dataframe('22_23_eng.csv', '2022-2023')\n",
    "premier_league_season23_24 = prepare_dataframe('23_24_eng.csv', '2023-2024')\n",
    "premier_league_season24_25 = prepare_dataframe('24_25_eng.csv', '2024-2025')\n",
    "\n",
    "premier_league_data = pd.concat([premier_league_season17_19, premier_league_season18_19, premier_league_season19_20, premier_league_season20_21, premier_league_season21_22, premier_league_season22_23, premier_league_season23_24,premier_league_season24_25])\n",
    "premier_league_data.fillna(0, inplace = True)\n",
    "# premier_league_data[['Home_h2h_Goals', 'Home_h2h_Points', 'Away_h2h_Goals', 'Away_h2h_Points']] = season_data[['Home_h2h_Goals', 'Home_h2h_Points', 'Away_h2h_Goals', 'Away_h2h_Points']]\n",
    "premier_league_data.to_csv('premier_league_data.csv', index = False)"
   ]
  },
  {
   "cell_type": "code",
   "execution_count": 603,
   "id": "5a7108b9-0f89-4e12-8b60-b3a8dde1ed0b",
   "metadata": {},
   "outputs": [],
   "source": [
    "# premier_league_data.reset_index(drop = True, inplace = True)\n",
    "# premier_league_data[['Home_h2h_Goals', 'Home_h2h_Points', 'Away_h2h_Goals', 'Away_h2h_Points']] = season_data[['Home_h2h_Goals', 'Home_h2h_Points', 'Away_h2h_Goals', 'Away_h2h_Points']]\n",
    "# premier_league_data.to_csv('premier_league_data.csv', index = False)"
   ]
  },
  {
   "cell_type": "code",
   "execution_count": 3,
   "id": "4c681251-9619-492d-9d26-ac485c0dad17",
   "metadata": {},
   "outputs": [],
   "source": [
    "def prepare_dataframe_championship(csv_file, season):\n",
    "    season_data = pd.read_csv(csv_file)\n",
    "    teams = season_data['HomeTeam'].unique()\n",
    "    url = f\"https://fbref.com/en/comps/10/{season}/schedule/{season}-Championship-Scores-and-Fixtures\"\n",
    "    season_data = join_scraped(url, season_data, season, teams, '10')\n",
    "    season_data = clean_v2(season_data)\n",
    "    season_data = create_seasonal_table(season_data,teams)\n",
    "    season_data = calculate_odds(season_data)\n",
    "    return season_data"
   ]
  },
  {
   "cell_type": "code",
   "execution_count": 4,
   "id": "4d8084e9-07b5-47c6-ac34-c8591fbae855",
   "metadata": {},
   "outputs": [],
   "source": [
    "championship_season18_19 = prepare_dataframe_championship('championship_18_19.csv', '2018-2019')\n",
    "championship_season19_20 = prepare_dataframe_championship('championship_19_20.csv', '2019-2020')\n",
    "championship_season20_21 = prepare_dataframe_championship('championship_20_21.csv', '2020-2021')\n",
    "championship_season21_22 = prepare_dataframe_championship('championship_21_22.csv', '2021-2022')\n",
    "championship_season22_23 = prepare_dataframe_championship('championship_22_23.csv', '2022-2023')\n",
    "championship_season23_24 = prepare_dataframe_championship('championship_23_24.csv', '2023-2024')\n",
    "championship_season24_25 = prepare_dataframe_championship('championship_24_25.csv', '2024-2025')"
   ]
  },
  {
   "cell_type": "code",
   "execution_count": 6,
   "id": "329dd5a2-17cb-426a-98bd-d237d83ce5e1",
   "metadata": {},
   "outputs": [],
   "source": [
    "championship_data = pd.concat([championship_season18_19, championship_season19_20, championship_season20_21, championship_season21_22, championship_season22_23, championship_season23_24,championship_season24_25])\n",
    "championship_data.fillna(0, inplace = True)\n",
    "championship_data.to_csv('championship_data.csv', index = False)"
   ]
  },
  {
   "cell_type": "code",
   "execution_count": 7,
   "id": "f0db8c90-67b2-47c4-8c83-db0c1f3465c4",
   "metadata": {},
   "outputs": [],
   "source": [
    "england_data = pd.concat([premier_league_data, championship_data])"
   ]
  },
  {
   "cell_type": "code",
   "execution_count": 8,
   "id": "b41f7da2-548e-4f16-a9b2-81c14b920287",
   "metadata": {},
   "outputs": [],
   "source": [
    "england_data.fillna(0, inplace = True)"
   ]
  },
  {
   "cell_type": "code",
   "execution_count": 9,
   "id": "23a5227b-b94f-4610-aee7-b7811b5f7388",
   "metadata": {},
   "outputs": [],
   "source": [
    "england_data.sort_values(['Date'], ascending = True, inplace = True)"
   ]
  },
  {
   "cell_type": "code",
   "execution_count": 10,
   "id": "10d0cca8-d8a4-4496-aa21-1b64d1ddb8de",
   "metadata": {},
   "outputs": [],
   "source": [
    "england_data.reset_index(inplace= True, drop = True)"
   ]
  },
  {
   "cell_type": "code",
   "execution_count": 37,
   "id": "7eab56ef-fce0-4124-8d0e-6581c1058aa7",
   "metadata": {},
   "outputs": [],
   "source": [
    "def prepare_dataframe_spanish1(csv_file, season):\n",
    "    season_data = pd.read_csv(csv_file)\n",
    "    teams = season_data['HomeTeam'].unique()\n",
    "    url = f\"https://fbref.com/en/comps/12/{season}/schedule/{season}-La-Liga-Scores-and-Fixtures\"\n",
    "    season_data = join_scraped(url, season_data, season, teams, '12')\n",
    "    season_data = clean_v2(season_data)\n",
    "    season_data = create_seasonal_table(season_data,teams)\n",
    "    season_data = calculate_odds(season_data)\n",
    "    return season_data\n",
    "\n",
    "def clean_seasonal_data(dataset):\n",
    "    dataset.drop(['HTHG','HTAG','HTR','Referee', 'WHH', 'WHD', 'WHA', 'VCH', 'VCD', 'VCA', 'MaxH', 'MaxD', 'MaxA','AvgH','AvgD',\t'AvgA',\t'B365>2.5',\t'B365<2.5',\t'P>2.5',\t'P<2.5',\t'Max>2.5',\t'Max<2.5',\t'Avg>2.5',\t'Avg<2.5',\t'AHh',\t'B365AHH',\t'B365AHA',\t'PAHH',\t'PAHA',\t'MaxAHH',\t'MaxAHA',\t'AvgAHH',\t'AvgAHA',\t'B365CH',\t'B365CD',\t'B365CA',\t'BWCH',\t'BWCD',\t'BWCA',\t'IWCH',\t'IWCD',\t'IWCA',\t'PSCH',\t'PSCD',\t'PSCA',\t'WHCH',\t'WHCD',\t'WHCA',\t'VCCH',\t'VCCD',\t'VCCA',\t'MaxCH',\t'MaxCD',\t'MaxCA',\t'AvgCH',\t'AvgCD',\t'AvgCA',\t'B365C>2.5',\t'B365C<2.5',\t'PC>2.5',\t'PC<2.5',\t'MaxC>2.5',\t'MaxC<2.5',\t'AvgC>2.5',\t'AvgC<2.5',\t'AHCh',\t'B365CAHH',\t'B365CAHA',\t'PCAHH',\t'PCAHA',\t'MaxCAHH',\t'MaxCAHA',\t'AvgCAHH',\t'AvgCAHA','BFH',\t'BFD',\t'BFA',\t'1XBH',\t'1XBD',\t'1XBA',\t'BFEH',\t'BFED',\t'BFEA',\t'BFE>2.5',\t'BFE<2.5',\t'BFEAHH',\t'BFEAHA',\t'BFCH',\t'BFCD',\t'BFCA'\t'1XBCH',\t'1XBCD',\t'1XBCA',\t'BFECH',\t'BFECD',\t'BFECA',\t'BFEC>2.5',\t'BFEC<2.5',\t'BFECAHH',\t'BFECAHA'\t ], inplace =True, axis = 1, errors='ignore')\n",
    "    dataset = pd.get_dummies(dataset, columns=['HomeTeam', 'AwayTeam'])\n",
    "    dummy_columns = dataset.select_dtypes(bool).columns\n",
    "    dataset[dummy_columns] = dataset[dummy_columns].astype(int)\n",
    "    dataset['Date'] = pd.to_datetime(dataset['Date'],format = '%d/%m/%Y' )\n",
    "    return dataset\n",
    "\n",
    "def join_scraped(url, season_data, season, teams, league_identifier):\n",
    "    xgoals= scrape_data(url, season, league_identifier)\n",
    "    xgoals = xgoals[['Home Team', 'Away Team','Home xG', 'Away xG']]\n",
    "\n",
    "    teams = sorted(teams)\n",
    "    teams2 = sorted(xgoals['Home Team'].unique())\n",
    "\n",
    "    dict_teams = {}\n",
    "    for i in range(len(teams2)):\n",
    "        dict_teams[teams2[i]] = teams[i]\n",
    "    xgoals = xgoals.replace(dict_teams) \n",
    "    season_data = pd.merge(season_data, xgoals, left_on = ['HomeTeam', 'AwayTeam'], right_on = ['Home Team', 'Away Team'])\n",
    "    season_data['Home xG'] = pd.to_numeric(season_data['Home xG'], errors='coerce')\n",
    "    season_data['Away xG'] = pd.to_numeric(season_data['Away xG'], errors='coerce')\n",
    "    xgoals = season_data[['Home xG','Away xG']]\n",
    "    season_data = clean_seasonal_data(season_data)\n",
    "    season_data[['Home xG','Away xG']] = xgoals\n",
    "    return season_data"
   ]
  },
  {
   "cell_type": "code",
   "execution_count": null,
   "id": "78e46ae8-5034-4f88-89b4-9b9e625ee888",
   "metadata": {},
   "outputs": [],
   "source": [
    "# spanish1_season17_18 = prepare_dataframe_spanish1('SP1_17_18.csv', '2017-2018')\n",
    "spanish1_season18_19 = prepare_dataframe_spanish1('SP1_18_19.csv', '2018-2019')\n",
    "spanish1_season19_20 = prepare_dataframe_spanish1('SP1_19_20.csv', '2019-2020')\n",
    "spanish1_season20_21 = prepare_dataframe_spanish1('SP1_20_21.csv', '2020-2021')\n",
    "spanish1_season21_22 = prepare_dataframe_spanish1('SP1_21_22.csv', '2021-2022')\n",
    "spanish1_season22_23 = prepare_dataframe_spanish1('SP1_22_23.csv', '2022-2023')\n",
    "spanish1_season23_24 = prepare_dataframe_spanish1('SP1_23_24.csv', '2023-2024')\n",
    "spanish1_season24_25 = prepare_dataframe_spanish1('SP_24_25.csv', '2024-2025')"
   ]
  },
  {
   "cell_type": "code",
   "execution_count": 43,
   "id": "7266b978-d712-46a3-9e2b-512d08b2e16d",
   "metadata": {},
   "outputs": [],
   "source": [
    "spanish1_data = pd.concat([spanish1_season18_19, spanish1_season19_20, spanish1_season20_21, spanish1_season21_22, spanish1_season22_23, spanish1_season23_24,spanish1_season24_25])\n",
    "spanish1_data.fillna(0, inplace = True)\n",
    "spanish1_data.to_csv('spanish1_data.csv', index = False)"
   ]
  },
  {
   "cell_type": "code",
   "execution_count": 55,
   "id": "e49f3b37-a70e-4ffc-b8f4-4cbb14295a64",
   "metadata": {},
   "outputs": [],
   "source": [
    "def prepare_dataframe_spanish2(csv_file, season):\n",
    "    season_data = pd.read_csv(csv_file)\n",
    "    teams = season_data['HomeTeam'].unique()\n",
    "    url = f\"https://fbref.com/en/comps/17/{season}/schedule/{season}-Segunda-Division-Scores-and-Fixtures\"\n",
    "    season_data = join_scraped(url, season_data, season, teams, '17')\n",
    "    season_data = clean_v2(season_data)\n",
    "    season_data = create_seasonal_table(season_data,teams)\n",
    "    season_data = calculate_odds(season_data)\n",
    "    return season_data"
   ]
  },
  {
   "cell_type": "code",
   "execution_count": 57,
   "id": "d009ea0b-893d-4f78-9be5-6d272e6be7f0",
   "metadata": {},
   "outputs": [
    {
     "ename": "IndexError",
     "evalue": "list index out of range",
     "output_type": "error",
     "traceback": [
      "\u001b[1;31m---------------------------------------------------------------------------\u001b[0m",
      "\u001b[1;31mIndexError\u001b[0m                                Traceback (most recent call last)",
      "Cell \u001b[1;32mIn[57], line 7\u001b[0m\n\u001b[0;32m      5\u001b[0m spanish2_season22_23 \u001b[38;5;241m=\u001b[39m prepare_dataframe_spanish2(\u001b[38;5;124m'\u001b[39m\u001b[38;5;124mSP2_22_23.csv\u001b[39m\u001b[38;5;124m'\u001b[39m, \u001b[38;5;124m'\u001b[39m\u001b[38;5;124m2022-2023\u001b[39m\u001b[38;5;124m'\u001b[39m)\n\u001b[0;32m      6\u001b[0m spanish2_season23_24 \u001b[38;5;241m=\u001b[39m prepare_dataframe_spanish2(\u001b[38;5;124m'\u001b[39m\u001b[38;5;124mSP2_23_24.csv\u001b[39m\u001b[38;5;124m'\u001b[39m, \u001b[38;5;124m'\u001b[39m\u001b[38;5;124m2023-2024\u001b[39m\u001b[38;5;124m'\u001b[39m)\n\u001b[1;32m----> 7\u001b[0m spanish2_season24_25 \u001b[38;5;241m=\u001b[39m prepare_dataframe_spanish2(\u001b[38;5;124m'\u001b[39m\u001b[38;5;124mSP2_24_25.csv\u001b[39m\u001b[38;5;124m'\u001b[39m, \u001b[38;5;124m'\u001b[39m\u001b[38;5;124m2024-2025\u001b[39m\u001b[38;5;124m'\u001b[39m)\n",
      "Cell \u001b[1;32mIn[55], line 5\u001b[0m, in \u001b[0;36mprepare_dataframe_spanish2\u001b[1;34m(csv_file, season)\u001b[0m\n\u001b[0;32m      3\u001b[0m teams \u001b[38;5;241m=\u001b[39m season_data[\u001b[38;5;124m'\u001b[39m\u001b[38;5;124mHomeTeam\u001b[39m\u001b[38;5;124m'\u001b[39m]\u001b[38;5;241m.\u001b[39munique()\n\u001b[0;32m      4\u001b[0m url \u001b[38;5;241m=\u001b[39m \u001b[38;5;124mf\u001b[39m\u001b[38;5;124m\"\u001b[39m\u001b[38;5;124mhttps://fbref.com/en/comps/17/\u001b[39m\u001b[38;5;132;01m{\u001b[39;00mseason\u001b[38;5;132;01m}\u001b[39;00m\u001b[38;5;124m/schedule/\u001b[39m\u001b[38;5;132;01m{\u001b[39;00mseason\u001b[38;5;132;01m}\u001b[39;00m\u001b[38;5;124m-Segunda-Division-Scores-and-Fixtures\u001b[39m\u001b[38;5;124m\"\u001b[39m\n\u001b[1;32m----> 5\u001b[0m season_data \u001b[38;5;241m=\u001b[39m join_scraped(url, season_data, season, teams, \u001b[38;5;124m'\u001b[39m\u001b[38;5;124m17\u001b[39m\u001b[38;5;124m'\u001b[39m)\n\u001b[0;32m      6\u001b[0m season_data \u001b[38;5;241m=\u001b[39m clean_v2(season_data)\n\u001b[0;32m      7\u001b[0m season_data \u001b[38;5;241m=\u001b[39m create_seasonal_table(season_data,teams)\n",
      "Cell \u001b[1;32mIn[37], line 28\u001b[0m, in \u001b[0;36mjoin_scraped\u001b[1;34m(url, season_data, season, teams, league_identifier)\u001b[0m\n\u001b[0;32m     26\u001b[0m dict_teams \u001b[38;5;241m=\u001b[39m {}\n\u001b[0;32m     27\u001b[0m \u001b[38;5;28;01mfor\u001b[39;00m i \u001b[38;5;129;01min\u001b[39;00m \u001b[38;5;28mrange\u001b[39m(\u001b[38;5;28mlen\u001b[39m(teams2)):\n\u001b[1;32m---> 28\u001b[0m     dict_teams[teams2[i]] \u001b[38;5;241m=\u001b[39m teams[i]\n\u001b[0;32m     29\u001b[0m xgoals \u001b[38;5;241m=\u001b[39m xgoals\u001b[38;5;241m.\u001b[39mreplace(dict_teams) \n\u001b[0;32m     30\u001b[0m season_data \u001b[38;5;241m=\u001b[39m pd\u001b[38;5;241m.\u001b[39mmerge(season_data, xgoals, left_on \u001b[38;5;241m=\u001b[39m [\u001b[38;5;124m'\u001b[39m\u001b[38;5;124mHomeTeam\u001b[39m\u001b[38;5;124m'\u001b[39m, \u001b[38;5;124m'\u001b[39m\u001b[38;5;124mAwayTeam\u001b[39m\u001b[38;5;124m'\u001b[39m], right_on \u001b[38;5;241m=\u001b[39m [\u001b[38;5;124m'\u001b[39m\u001b[38;5;124mHome Team\u001b[39m\u001b[38;5;124m'\u001b[39m, \u001b[38;5;124m'\u001b[39m\u001b[38;5;124mAway Team\u001b[39m\u001b[38;5;124m'\u001b[39m])\n",
      "\u001b[1;31mIndexError\u001b[0m: list index out of range"
     ]
    }
   ],
   "source": [
    "spanish2_season18_19 = prepare_dataframe_spanish2('SP2_18_19.csv', '2018-2019')\n",
    "spanish2_season19_20 = prepare_dataframe_spanish2('SP2_19_20.csv', '2019-2020')\n",
    "spanish2_season20_21 = prepare_dataframe_spanish2('SP2_20_21.csv', '2020-2021')\n",
    "spanish2_season21_22 = prepare_dataframe_spanish2('SP2_21_22.csv', '2021-2022')\n",
    "spanish2_season22_23 = prepare_dataframe_spanish2('SP2_22_23.csv', '2022-2023')\n",
    "spanish2_season23_24 = prepare_dataframe_spanish2('SP2_23_24.csv', '2023-2024')\n",
    "# spanish2_season24_25 = prepare_dataframe_spanish2('SP2_24_25.csv', '2024-2025')"
   ]
  },
  {
   "cell_type": "code",
   "execution_count": 60,
   "id": "3a6acf29-4a8d-426a-b3f1-0eaf85ba73fe",
   "metadata": {},
   "outputs": [],
   "source": [
    "spanish2_data = pd.concat([spanish2_season18_19, spanish2_season19_20, spanish2_season20_21, spanish2_season21_22, spanish2_season22_23, spanish2_season23_24])\n",
    "spanish2_data.fillna(0, inplace = True)\n",
    "spanish2_data.to_csv('spanish2_data.csv', index = False)"
   ]
  },
  {
   "cell_type": "code",
   "execution_count": 62,
   "id": "b7edbc4d-e2c9-4b3a-a569-7cf8de553a08",
   "metadata": {},
   "outputs": [],
   "source": [
    "def prepare_dataframe_italian1(csv_file, season):\n",
    "    season_data = pd.read_csv(csv_file)\n",
    "    teams = season_data['HomeTeam'].unique()\n",
    "    url = f\"https://fbref.com/en/comps/11/{season}/schedule/{season}-Serie-A-Scores-and-Fixtures\"\n",
    "    season_data = join_scraped(url, season_data, season, teams, '11')\n",
    "    season_data = clean_v2(season_data)\n",
    "    season_data = create_seasonal_table(season_data,teams)\n",
    "    season_data = calculate_odds(season_data)\n",
    "    return season_data"
   ]
  },
  {
   "cell_type": "code",
   "execution_count": 64,
   "id": "448f1526-1928-4c11-8656-2cceb823fd13",
   "metadata": {},
   "outputs": [
    {
     "ename": "IndexError",
     "evalue": "list index out of range",
     "output_type": "error",
     "traceback": [
      "\u001b[1;31m---------------------------------------------------------------------------\u001b[0m",
      "\u001b[1;31mIndexError\u001b[0m                                Traceback (most recent call last)",
      "Cell \u001b[1;32mIn[64], line 8\u001b[0m\n\u001b[0;32m      6\u001b[0m italian1_season22_23 \u001b[38;5;241m=\u001b[39m prepare_dataframe_italian1(\u001b[38;5;124m'\u001b[39m\u001b[38;5;124mI1_22_23.csv\u001b[39m\u001b[38;5;124m'\u001b[39m, \u001b[38;5;124m'\u001b[39m\u001b[38;5;124m2022-2023\u001b[39m\u001b[38;5;124m'\u001b[39m)\n\u001b[0;32m      7\u001b[0m italian1_season23_24 \u001b[38;5;241m=\u001b[39m prepare_dataframe_italian1(\u001b[38;5;124m'\u001b[39m\u001b[38;5;124mI1_23_24.csv\u001b[39m\u001b[38;5;124m'\u001b[39m, \u001b[38;5;124m'\u001b[39m\u001b[38;5;124m2023-2024\u001b[39m\u001b[38;5;124m'\u001b[39m)\n\u001b[1;32m----> 8\u001b[0m italian1_season24_25 \u001b[38;5;241m=\u001b[39m prepare_dataframe_italian1(\u001b[38;5;124m'\u001b[39m\u001b[38;5;124mI1_24_25.csv\u001b[39m\u001b[38;5;124m'\u001b[39m, \u001b[38;5;124m'\u001b[39m\u001b[38;5;124m2024-2025\u001b[39m\u001b[38;5;124m'\u001b[39m)\n",
      "Cell \u001b[1;32mIn[62], line 5\u001b[0m, in \u001b[0;36mprepare_dataframe_italian1\u001b[1;34m(csv_file, season)\u001b[0m\n\u001b[0;32m      3\u001b[0m teams \u001b[38;5;241m=\u001b[39m season_data[\u001b[38;5;124m'\u001b[39m\u001b[38;5;124mHomeTeam\u001b[39m\u001b[38;5;124m'\u001b[39m]\u001b[38;5;241m.\u001b[39munique()\n\u001b[0;32m      4\u001b[0m url \u001b[38;5;241m=\u001b[39m \u001b[38;5;124mf\u001b[39m\u001b[38;5;124m\"\u001b[39m\u001b[38;5;124mhttps://fbref.com/en/comps/11/\u001b[39m\u001b[38;5;132;01m{\u001b[39;00mseason\u001b[38;5;132;01m}\u001b[39;00m\u001b[38;5;124m/schedule/\u001b[39m\u001b[38;5;132;01m{\u001b[39;00mseason\u001b[38;5;132;01m}\u001b[39;00m\u001b[38;5;124m-Serie-A-Scores-and-Fixtures\u001b[39m\u001b[38;5;124m\"\u001b[39m\n\u001b[1;32m----> 5\u001b[0m season_data \u001b[38;5;241m=\u001b[39m join_scraped(url, season_data, season, teams, \u001b[38;5;124m'\u001b[39m\u001b[38;5;124m11\u001b[39m\u001b[38;5;124m'\u001b[39m)\n\u001b[0;32m      6\u001b[0m season_data \u001b[38;5;241m=\u001b[39m clean_v2(season_data)\n\u001b[0;32m      7\u001b[0m season_data \u001b[38;5;241m=\u001b[39m create_seasonal_table(season_data,teams)\n",
      "Cell \u001b[1;32mIn[37], line 28\u001b[0m, in \u001b[0;36mjoin_scraped\u001b[1;34m(url, season_data, season, teams, league_identifier)\u001b[0m\n\u001b[0;32m     26\u001b[0m dict_teams \u001b[38;5;241m=\u001b[39m {}\n\u001b[0;32m     27\u001b[0m \u001b[38;5;28;01mfor\u001b[39;00m i \u001b[38;5;129;01min\u001b[39;00m \u001b[38;5;28mrange\u001b[39m(\u001b[38;5;28mlen\u001b[39m(teams2)):\n\u001b[1;32m---> 28\u001b[0m     dict_teams[teams2[i]] \u001b[38;5;241m=\u001b[39m teams[i]\n\u001b[0;32m     29\u001b[0m xgoals \u001b[38;5;241m=\u001b[39m xgoals\u001b[38;5;241m.\u001b[39mreplace(dict_teams) \n\u001b[0;32m     30\u001b[0m season_data \u001b[38;5;241m=\u001b[39m pd\u001b[38;5;241m.\u001b[39mmerge(season_data, xgoals, left_on \u001b[38;5;241m=\u001b[39m [\u001b[38;5;124m'\u001b[39m\u001b[38;5;124mHomeTeam\u001b[39m\u001b[38;5;124m'\u001b[39m, \u001b[38;5;124m'\u001b[39m\u001b[38;5;124mAwayTeam\u001b[39m\u001b[38;5;124m'\u001b[39m], right_on \u001b[38;5;241m=\u001b[39m [\u001b[38;5;124m'\u001b[39m\u001b[38;5;124mHome Team\u001b[39m\u001b[38;5;124m'\u001b[39m, \u001b[38;5;124m'\u001b[39m\u001b[38;5;124mAway Team\u001b[39m\u001b[38;5;124m'\u001b[39m])\n",
      "\u001b[1;31mIndexError\u001b[0m: list index out of range"
     ]
    }
   ],
   "source": [
    "# spanish1_season17_18 = prepare_dataframe_spanish1('SP1_17_18.csv', '2017-2018')\n",
    "italian1_season18_19 = prepare_dataframe_italian1('I1_18_19.csv', '2018-2019')\n",
    "italian1_season19_20 = prepare_dataframe_italian1('I1_19_20.csv', '2019-2020')\n",
    "italian1_season20_21 = prepare_dataframe_italian1('I1_20_21.csv', '2020-2021')\n",
    "italian1_season21_22 = prepare_dataframe_italian1('I1_21_22.csv', '2021-2022')\n",
    "italian1_season22_23 = prepare_dataframe_italian1('I1_22_23.csv', '2022-2023')\n",
    "italian1_season23_24 = prepare_dataframe_italian1('I1_23_24.csv', '2023-2024')\n",
    "# italian1_season24_25 = prepare_dataframe_italian1('I1_24_25.csv', '2024-2025')"
   ]
  },
  {
   "cell_type": "code",
   "execution_count": 69,
   "id": "620bea1d-7c72-4cd4-9dc2-4a6571df08ce",
   "metadata": {},
   "outputs": [],
   "source": [
    "italian1_data = pd.concat([italian1_season18_19, italian1_season19_20, italian1_season20_21, italian1_season21_22, italian1_season22_23, italian1_season23_24])\n",
    "italian1_data.fillna(0, inplace = True)\n",
    "italian1_data.to_csv('italian1_data.csv', index = False)"
   ]
  },
  {
   "cell_type": "code",
   "execution_count": 67,
   "id": "d0ae05b0-901f-45d0-a6dc-39c498a245ba",
   "metadata": {},
   "outputs": [],
   "source": [
    "def prepare_dataframe_italian2(csv_file, season):\n",
    "    season_data = pd.read_csv(csv_file)\n",
    "    teams = season_data['HomeTeam'].unique()\n",
    "    url = f\"https://fbref.com/en/comps/18/{season}/schedule/{season}-Serie-B-Scores-and-Fixtures\"\n",
    "    season_data = join_scraped(url, season_data, season, teams, '18')\n",
    "    season_data = clean_v2(season_data)\n",
    "    season_data = create_seasonal_table(season_data,teams)\n",
    "    season_data = calculate_odds(season_data)\n",
    "    return season_data"
   ]
  },
  {
   "cell_type": "code",
   "execution_count": 75,
   "id": "3dc1fc52-d992-4a03-bc6f-10db2ddc1d76",
   "metadata": {},
   "outputs": [],
   "source": [
    "# spanish1_season17_18 = prepare_dataframe_spanish1('SP1_17_18.csv', '2017-2018')\n",
    "# italian2_season18_19 = prepare_dataframe_italian2('I2_18_19.csv', '2018-2019')\n",
    "italian2_season19_20 = prepare_dataframe_italian2('I2_19_20.csv', '2019-2020')\n",
    "italian2_season20_21 = prepare_dataframe_italian2('I2_20_21.csv', '2020-2021')\n",
    "italian2_season21_22 = prepare_dataframe_italian2('I2_21_22.csv', '2021-2022')\n",
    "italian2_season22_23 = prepare_dataframe_italian2('I2_22_23.csv', '2022-2023')\n",
    "italian2_season23_24 = prepare_dataframe_italian2('I2_23_24.csv', '2023-2024')\n",
    "# italian1_season24_25 = prepare_dataframe_italian1('I1_24_25.csv', '2024-2025')"
   ]
  },
  {
   "cell_type": "code",
   "execution_count": 77,
   "id": "20c228d3-7797-4f16-8d6e-51d91d9e748b",
   "metadata": {},
   "outputs": [],
   "source": [
    "italian2_data = pd.concat([italian1_season19_20, italian1_season20_21, italian1_season21_22, italian1_season22_23, italian1_season23_24])\n",
    "italian2_data.fillna(0, inplace = True)\n",
    "italian2_data.to_csv('italian2_data.csv', index = False)"
   ]
  },
  {
   "cell_type": "code",
   "execution_count": 79,
   "id": "bdb2f97b-6994-4ac2-965a-bb65e057f7b2",
   "metadata": {},
   "outputs": [],
   "source": [
    "def prepare_dataframe_german1(csv_file, season):\n",
    "    season_data = pd.read_csv(csv_file)\n",
    "    teams = season_data['HomeTeam'].unique()\n",
    "    url = f\"https://fbref.com/en/comps/20/{season}/schedule/{season}-Bundesliga-Scores-and-Fixtures\"\n",
    "    season_data = join_scraped(url, season_data, season, teams, '20')\n",
    "    season_data = clean_v2(season_data)\n",
    "    season_data = create_seasonal_table(season_data,teams)\n",
    "    season_data = calculate_odds(season_data)\n",
    "    return season_data"
   ]
  },
  {
   "cell_type": "code",
   "execution_count": 83,
   "id": "07f186dd-2bd2-480e-ae72-37071412e53d",
   "metadata": {},
   "outputs": [],
   "source": [
    "german1_season18_19 = prepare_dataframe_german1('D1_18_19.csv', '2018-2019')\n",
    "german1_season19_20 = prepare_dataframe_german1('D1_19_20.csv', '2019-2020')\n",
    "german1_season20_21 = prepare_dataframe_german1('D1_20_21.csv', '2020-2021')\n",
    "german1_season21_22 = prepare_dataframe_german1('D1_21_22.csv', '2021-2022')\n",
    "german1_season22_23 = prepare_dataframe_german1('D1_22_23.csv', '2022-2023')\n",
    "german1_season23_24 = prepare_dataframe_german1('D1_23_24.csv', '2023-2024')\n",
    "german1_season24_25 = prepare_dataframe_german1('D1_24_25.csv', '2024-2025')"
   ]
  },
  {
   "cell_type": "code",
   "execution_count": 84,
   "id": "262d5548-3e0d-407c-9f49-cac443dbabd5",
   "metadata": {},
   "outputs": [],
   "source": [
    "german1_data = pd.concat([german1_season18_19, german1_season19_20, german1_season20_21, german1_season21_22, german1_season22_23, german1_season23_24,german1_season24_25])\n",
    "german1_data.fillna(0, inplace = True)\n",
    "german1_data.to_csv('german1_data.csv', index = False)"
   ]
  },
  {
   "cell_type": "code",
   "execution_count": 87,
   "id": "c34b63e7-273d-48d8-8abd-101ce6f0ba74",
   "metadata": {},
   "outputs": [],
   "source": [
    "def prepare_dataframe_german2(csv_file, season):\n",
    "    season_data = pd.read_csv(csv_file)\n",
    "    teams = season_data['HomeTeam'].unique()\n",
    "    url = f\"https://fbref.com/en/comps/33/{season}/schedule/{season}-2Bundesliga-Scores-and-Fixtures\"\n",
    "    season_data = join_scraped(url, season_data, season, teams, '33')\n",
    "    season_data = clean_v2(season_data)\n",
    "    season_data = create_seasonal_table(season_data,teams)\n",
    "    season_data = calculate_odds(season_data)\n",
    "    return season_data"
   ]
  },
  {
   "cell_type": "code",
   "execution_count": 617,
   "id": "96218aad-6422-46b2-90c6-daab8bd4ac06",
   "metadata": {},
   "outputs": [],
   "source": [
    "season_data0 = pd.read_csv('24_25_eng.csv')\n",
    "season_data00 = pd.read_csv('23_24_eng.csv')\n",
    "season_data2 = pd.read_csv('22_23_eng.csv')\n",
    "season_data3 = pd.read_csv('21_22_eng.csv')\n",
    "season_data4 = pd.read_csv('20_21_eng.csv')\n",
    "season_data5 = pd.read_csv('19_20_eng.csv')\n",
    "season_data6 = pd.read_csv('18_19_eng.csv')\n",
    "season_data7 = pd.read_csv('17_18_eng.csv')\n",
    "\n",
    "championship_data0 = pd.read_csv('championship_24_25.csv')\n",
    "championship_data1 = pd.read_csv('championship_23_24.csv')\n",
    "championship_data2 = pd.read_csv('championship_22_23.csv')\n",
    "championship_data3 = pd.read_csv('championship_21_22.csv')\n",
    "championship_data4 = pd.read_csv('championship_20_21.csv')\n",
    "championship_data5 = pd.read_csv('championship_19_20.csv')\n",
    "championship_data6 = pd.read_csv('championship_18_19.csv')\n",
    "\n",
    "spanish1_data0 = pd.read_csv('SP_24_25.csv')\n",
    "spanish1_data1 = pd.read_csv('SP1_23_24.csv')\n",
    "spanish1_data2 = pd.read_csv('SP1_22_23.csv')\n",
    "spanish1_data3 = pd.read_csv('SP1_21_22.csv')\n",
    "spanish1_data4 = pd.read_csv('SP1_20_21.csv')\n",
    "spanish1_data5 = pd.read_csv('SP1_19_20.csv')\n",
    "spanish1_data6 = pd.read_csv('SP1_18_19.csv')\n",
    "\n",
    "# spanish2_data0 = pd.read_csv('SP2_24_25.csv')\n",
    "spanish2_data1 = pd.read_csv('SP2_23_24.csv')\n",
    "spanish2_data2 = pd.read_csv('SP2_22_23.csv')\n",
    "spanish2_data3 = pd.read_csv('SP2_21_22.csv')\n",
    "spanish2_data4 = pd.read_csv('SP2_20_21.csv')\n",
    "spanish2_data5 = pd.read_csv('SP2_19_20.csv')\n",
    "spanish2_data6 = pd.read_csv('SP2_18_19.csv')\n",
    "\n",
    "italian1_data1 = pd.read_csv('I1_23_24.csv')\n",
    "italian1_data2 = pd.read_csv('I1_22_23.csv')\n",
    "italian1_data3 = pd.read_csv('I1_21_22.csv')\n",
    "italian1_data4 = pd.read_csv('I1_20_21.csv')\n",
    "italian1_data5 = pd.read_csv('I1_19_20.csv')\n",
    "italian1_data6 = pd.read_csv('I1_18_19.csv')\n",
    "\n",
    "italian2_data1 = pd.read_csv('I2_23_24.csv')\n",
    "italian2_data2 = pd.read_csv('I2_22_23.csv')\n",
    "italian2_data3 = pd.read_csv('I2_21_22.csv')\n",
    "italian2_data4 = pd.read_csv('I2_20_21.csv')\n",
    "italian2_data5 = pd.read_csv('I2_19_20.csv')\n",
    "# italian2_data6 = pd.read_csv('I2_18_19.csv')\n",
    "\n",
    "german1_data0 = pd.read_csv('D1_24_25.csv')\n",
    "german1_data1 = pd.read_csv('D1_23_24.csv')\n",
    "german1_data2 = pd.read_csv('D1_22_23.csv')\n",
    "german1_data3 = pd.read_csv('D1_21_22.csv')\n",
    "german1_data4 = pd.read_csv('D1_20_21.csv')\n",
    "german1_data5 = pd.read_csv('D1_19_20.csv')\n",
    "german1_data6 = pd.read_csv('D1_18_19.csv')\n",
    "\n",
    "german2_data0 = pd.read_csv('D2_24_25.csv')\n",
    "german2_data1 = pd.read_csv('D2_23_24.csv')\n",
    "german2_data2 = pd.read_csv('D2_22_23.csv')\n",
    "german2_data3 = pd.read_csv('D2_21_22.csv')\n",
    "german2_data4 = pd.read_csv('D2_20_21.csv')\n",
    "german2_data5 = pd.read_csv('D2_19_20.csv')\n",
    "german2_data6 = pd.read_csv('D2_18_19.csv')\n",
    "\n",
    "season_data = pd.concat([season_data7, season_data6,season_data5,season_data4,season_data3,season_data2,season_data00,season_data0,\n",
    "                        championship_data0, championship_data1, championship_data2, championship_data3, championship_data4, championship_data5, championship_data6,\n",
    "                        spanish1_data0, spanish1_data1,spanish1_data2,spanish1_data3,spanish1_data4,spanish1_data5,spanish1_data6,\n",
    "                          spanish2_data1,spanish2_data2,spanish2_data3,spanish2_data4,spanish2_data5,spanish2_data6,\n",
    "                        italian1_data1,italian1_data2,italian1_data3,italian1_data4,italian1_data5,italian1_data6,\n",
    "                         italian2_data2,italian2_data3,italian2_data4,italian2_data5,italian2_data1,\n",
    "                         german1_data0, german1_data1,german1_data2,german1_data3,german1_data4,german1_data5,german1_data6,\n",
    "                          german2_data0, german2_data1,german2_data2,german2_data3,german2_data4,german2_data5,german2_data6,\n",
    "                        ])\n",
    "season_data['Date'] = pd.to_datetime(season_data['Date'], format = \"%d/%m/%Y\")\n",
    "season_data.sort_values(['Date'],ascending = True, inplace = True)\n",
    "season_data.reset_index(drop = True, inplace = True)\n",
    "season_data =  get_team_h2h(season_data)"
   ]
  },
  {
   "cell_type": "code",
   "execution_count": 623,
   "id": "56750e93-0f37-49ed-972a-c68b7ab5ec2f",
   "metadata": {},
   "outputs": [],
   "source": [
    "season_data.to_csv('h2h_data.csv', index = False)"
   ]
  },
  {
   "cell_type": "code",
   "execution_count": 89,
   "id": "e401388f-4e57-4077-b9f2-981c84f2f3dd",
   "metadata": {},
   "outputs": [],
   "source": [
    "german2_season18_19 = prepare_dataframe_german2('D2_18_19.csv', '2018-2019')\n",
    "german2_season19_20 = prepare_dataframe_german2('D2_19_20.csv', '2019-2020')\n",
    "german2_season20_21 = prepare_dataframe_german2('D2_20_21.csv', '2020-2021')\n",
    "german2_season21_22 = prepare_dataframe_german2('D2_21_22.csv', '2021-2022')\n",
    "german2_season22_23 = prepare_dataframe_german2('D2_22_23.csv', '2022-2023')\n",
    "german2_season23_24 = prepare_dataframe_german2('D2_23_24.csv', '2023-2024')\n",
    "german2_season24_25 = prepare_dataframe_german2('D2_24_25.csv', '2024-2025')"
   ]
  },
  {
   "cell_type": "code",
   "execution_count": 90,
   "id": "d8576d58-790f-4300-a193-dc03cfc7827a",
   "metadata": {},
   "outputs": [],
   "source": [
    "german2_data = pd.concat([german2_season18_19, german2_season19_20, german2_season20_21, german2_season21_22, german2_season22_23, german2_season23_24,german2_season24_25])\n",
    "german2_data.fillna(0, inplace = True)\n",
    "german2_data.to_csv('german2_data.csv', index = False)"
   ]
  }
 ],
 "metadata": {
  "kernelspec": {
   "display_name": "Python 3 (ipykernel)",
   "language": "python",
   "name": "python3"
  },
  "language_info": {
   "codemirror_mode": {
    "name": "ipython",
    "version": 3
   },
   "file_extension": ".py",
   "mimetype": "text/x-python",
   "name": "python",
   "nbconvert_exporter": "python",
   "pygments_lexer": "ipython3",
   "version": "3.12.4"
  }
 },
 "nbformat": 4,
 "nbformat_minor": 5
}
