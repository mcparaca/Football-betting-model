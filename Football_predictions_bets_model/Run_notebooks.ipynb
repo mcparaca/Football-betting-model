{
 "cells": [
  {
   "cell_type": "markdown",
   "id": "8caf654e-44ad-4a9f-9464-1d05934fa809",
   "metadata": {},
   "source": [
    "## Run automation\n",
    "\n",
    "This optional notebook serves as an automation tool designed to streamline the entire process of gathering new data, combining it, preprocessing it, and making predictions. By executing all the necessary notebooks in a specified sequence, it efficiently manages the workflow, ensuring that we are always working with the most up-to-date information.\n",
    "\n",
    "Furthermore, the notebook is programmed to send an email to the user every Friday at 8 AM, just before the weekend matchday. This timely communication ensures that users receive the latest betting propositions and insights, allowing them to make informed decisions ahead of the matches.\n",
    "\n",
    "By automating these processes, we not only save time but also enhance the consistency and reliability of our predictions. This approach allows for a seamless integration of data-driven betting strategies into our routine, ultimately maximizing our chances of generating profit in the dynamic world of sports betting.\n",
    "\n"
   ]
  },
  {
   "cell_type": "code",
   "execution_count": null,
   "id": "29c77bfb-d33f-41f3-8f21-9fd0ef916a2b",
   "metadata": {},
   "outputs": [],
   "source": [
    "import subprocess\n",
    "import time\n",
    "import schedule\n",
    "from datetime import datetime, timedelta\n",
    "\n",
    "def run_notebook(notebook_path, output_path):\n",
    "    command = [\n",
    "        'jupyter', 'nbconvert', '--to', 'notebook', \n",
    "        '--execute', notebook_path, '--output', output_path\n",
    "    ]\n",
    "    subprocess.run(command)\n",
    "\n",
    "def run_all_notebooks():\n",
    "    run_notebook('Download_new_data_bets.ipynb', '1.ipynb')\n",
    "    run_notebook('Combine_league_data_for_predictions.ipynb', '2.ipynb')\n",
    "    run_notebook('Data_preprocessing_for_predictions.ipynb', '3.ipynb')\n",
    "    run_notebook('Next_fixtures_prediction.ipynb', '4.ipynb')\n",
    "\n",
    "\n",
    "schedule.every().friday.at(\"08:00\").do(run_all_notebooks)\n",
    "\n",
    "# Keep the script running to execute tasks at the scheduled times\n",
    "while True:\n",
    "    schedule.run_pending()\n",
    "    time.sleep(60) "
   ]
  },
  {
   "cell_type": "code",
   "execution_count": null,
   "id": "03a3f5a4-104a-48c0-8f99-7d7dd6b47dcf",
   "metadata": {},
   "outputs": [],
   "source": []
  }
 ],
 "metadata": {
  "kernelspec": {
   "display_name": "Python 3 (ipykernel)",
   "language": "python",
   "name": "python3"
  },
  "language_info": {
   "codemirror_mode": {
    "name": "ipython",
    "version": 3
   },
   "file_extension": ".py",
   "mimetype": "text/x-python",
   "name": "python",
   "nbconvert_exporter": "python",
   "pygments_lexer": "ipython3",
   "version": "3.12.4"
  }
 },
 "nbformat": 4,
 "nbformat_minor": 5
}
